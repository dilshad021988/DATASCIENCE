{
 "cells": [
  {
   "cell_type": "markdown",
   "id": "578db6d5-ae2d-40c2-92b1-fe45bf1b8cec",
   "metadata": {},
   "source": [
    "#### For Loop Assignment"
   ]
  },
  {
   "cell_type": "code",
   "execution_count": 2,
   "id": "36e27c07-6333-4878-b430-f42d96cff27b",
   "metadata": {},
   "outputs": [],
   "source": [
    "# 1. Write a Python program to print the numbers from 1 to 10 using a `for` loop."
   ]
  },
  {
   "cell_type": "code",
   "execution_count": 3,
   "id": "db5d58ba-4c45-4c54-aeb3-c38211b1425c",
   "metadata": {},
   "outputs": [
    {
     "name": "stdout",
     "output_type": "stream",
     "text": [
      "1\n",
      "2\n",
      "3\n",
      "4\n",
      "5\n",
      "6\n",
      "7\n",
      "8\n",
      "9\n",
      "10\n"
     ]
    }
   ],
   "source": [
    "for i in range(1,11):\n",
    "    print(i)"
   ]
  },
  {
   "cell_type": "code",
   "execution_count": 4,
   "id": "6dc24e94-b0cc-41dc-8d99-7f00931d5028",
   "metadata": {},
   "outputs": [],
   "source": [
    "# 2. Create a program that calculates the sum of all numbers in a list using a `for` loop."
   ]
  },
  {
   "cell_type": "code",
   "execution_count": 6,
   "id": "b0dca556-ea68-4043-bc54-f86c30502396",
   "metadata": {},
   "outputs": [
    {
     "name": "stdout",
     "output_type": "stream",
     "text": [
      " The sum of numbers in list [1, 2, 3, 4, 5] are:  15\n"
     ]
    }
   ],
   "source": [
    "my_list = [1,2,3,4,5]\n",
    "list_sum = 0\n",
    "\n",
    "for i in my_list:\n",
    "    list_sum = list_sum + i\n",
    "print(f\" The sum of numbers in list {my_list} are: \", list_sum)"
   ]
  },
  {
   "cell_type": "code",
   "execution_count": 7,
   "id": "305c8299-1894-4fc0-a612-f063f30dbd8e",
   "metadata": {},
   "outputs": [],
   "source": [
    "# 3. Write a program to print the characters of a string in reverse order using a `for` loop."
   ]
  },
  {
   "cell_type": "code",
   "execution_count": 9,
   "id": "3ab5f4ad-fdff-4fc2-b0f7-969f49fc6f5d",
   "metadata": {},
   "outputs": [
    {
     "name": "stdout",
     "output_type": "stream",
     "text": [
      "The reversed string(using loops) is :  dlroW olleH\n"
     ]
    }
   ],
   "source": [
    "my_string = \"Hello World\"\n",
    "rev_string = \"\"\n",
    "\n",
    "for i in my_string:\n",
    "    rev_string = i + rev_string\n",
    "print(\"The reversed string(using loops) is : \", rev_string)"
   ]
  },
  {
   "cell_type": "code",
   "execution_count": 10,
   "id": "c221e782-b722-453c-96b8-90f49df01872",
   "metadata": {},
   "outputs": [],
   "source": [
    "# 4. Develop a program that finds the factorial of a given number using a `for` loop."
   ]
  },
  {
   "cell_type": "code",
   "execution_count": 39,
   "id": "6d50349b-b541-4be6-a1a1-a514342c5cb2",
   "metadata": {},
   "outputs": [
    {
     "name": "stdin",
     "output_type": "stream",
     "text": [
      "Enter a number to determine factorial:  4\n"
     ]
    },
    {
     "name": "stdout",
     "output_type": "stream",
     "text": [
      "The factorial of number 4 is:  24\n"
     ]
    }
   ],
   "source": [
    "fact_num = int(input(\"Enter a number to determine factorial: \"))\n",
    "fact = fact_num\n",
    "\n",
    "for i in range(1,fact_num+1):\n",
    "    if i < fact:\n",
    "        fact_num = fact_num * i\n",
    "    else:\n",
    "        break\n",
    "print(f\"The factorial of number {fact} is: \", fact_num)"
   ]
  },
  {
   "cell_type": "code",
   "execution_count": 40,
   "id": "315d61f8-87e5-41fc-b884-2ba450e60d88",
   "metadata": {},
   "outputs": [],
   "source": [
    "# 5. Create a program to print the multiplication table of a given number using a `for` loop."
   ]
  },
  {
   "cell_type": "code",
   "execution_count": 42,
   "id": "b4b69323-72ff-44e9-95a6-d4649c3b7151",
   "metadata": {},
   "outputs": [
    {
     "name": "stdin",
     "output_type": "stream",
     "text": [
      "Enter a number to generate table:  5\n"
     ]
    },
    {
     "name": "stdout",
     "output_type": "stream",
     "text": [
      "5 X 1 =  5\n",
      "5 X 2 =  10\n",
      "5 X 3 =  15\n",
      "5 X 4 =  20\n",
      "5 X 5 =  25\n",
      "5 X 6 =  30\n",
      "5 X 7 =  35\n",
      "5 X 8 =  40\n",
      "5 X 9 =  45\n",
      "5 X 10 =  50\n"
     ]
    }
   ],
   "source": [
    "num = int(input(\"Enter a number to generate table: \"))\n",
    "\n",
    "for i in range(1,11):\n",
    "    print(f\"{num}\" + \" X \" + f\"{i}\" + \" = \",num*i)"
   ]
  },
  {
   "cell_type": "code",
   "execution_count": 43,
   "id": "457658dc-6fda-4d52-b5ab-efee3de48119",
   "metadata": {},
   "outputs": [],
   "source": [
    "# 6. Write a program that counts the number of even and odd numbers in a list using a `for` loop."
   ]
  },
  {
   "cell_type": "code",
   "execution_count": 46,
   "id": "af1932c1-c3e7-4409-a575-29edb927f722",
   "metadata": {},
   "outputs": [
    {
     "name": "stdout",
     "output_type": "stream",
     "text": [
      "The count of even number in list[4, 5, 6, 7, 8, 10] are:  4\n",
      "The count of odd number in list[4, 5, 6, 7, 8, 10] are:  2\n"
     ]
    }
   ],
   "source": [
    "my_list = [4,5,6,7,8,10]\n",
    "count_even = 0\n",
    "count_odd = 0\n",
    "\n",
    "for i in my_list:\n",
    "    if i%2==0:\n",
    "        count_even += 1\n",
    "    else:\n",
    "        count_odd += 1\n",
    "print(f\"The count of even number in list{my_list} are: \", count_even)\n",
    "print(f\"The count of odd number in list{my_list} are: \", count_odd)"
   ]
  },
  {
   "cell_type": "code",
   "execution_count": 47,
   "id": "624639ee-7708-42df-a473-e85802995ee8",
   "metadata": {},
   "outputs": [],
   "source": [
    "# 7. Develop a program that prints the squares of numbers from 1 to 5 using a `for` loop."
   ]
  },
  {
   "cell_type": "code",
   "execution_count": 50,
   "id": "f381dd52-7a35-4833-9d40-20a6cdbcfbe6",
   "metadata": {},
   "outputs": [
    {
     "name": "stdout",
     "output_type": "stream",
     "text": [
      "Square of 1 =  1\n",
      "Square of 2 =  4\n",
      "Square of 3 =  9\n",
      "Square of 4 =  16\n",
      "Square of 5 =  25\n"
     ]
    }
   ],
   "source": [
    "for i in range(1,6):\n",
    "    print(f\"Square of {i}\" + \" = \",i*i)"
   ]
  },
  {
   "cell_type": "code",
   "execution_count": 51,
   "id": "047d98d3-d3e6-4071-af00-449462d70d5d",
   "metadata": {},
   "outputs": [],
   "source": [
    "# 8. Create a program to find the length of a string without using the `len()` function."
   ]
  },
  {
   "cell_type": "code",
   "execution_count": 6,
   "id": "c435e168-2e37-4fe4-9338-e68fdbc9f4f0",
   "metadata": {},
   "outputs": [
    {
     "name": "stdout",
     "output_type": "stream",
     "text": [
      "The length of string \"Hello World\" is:  11\n"
     ]
    }
   ],
   "source": [
    "my_string = \"Hello World\"\n",
    "count = 0\n",
    "\n",
    "for i in my_string:\n",
    "    count += 1\n",
    "print(\"The length of string \" + '\"' + f\"{my_string}\"+ '\"'+\" is: \",count)"
   ]
  },
  {
   "cell_type": "code",
   "execution_count": 7,
   "id": "8cceca6d-f12c-4d21-a80d-ef85d4fd5abe",
   "metadata": {},
   "outputs": [],
   "source": [
    "# 9. Write a program that calculates the average of a list of numbers using a `for` loop."
   ]
  },
  {
   "cell_type": "code",
   "execution_count": 8,
   "id": "7e776937-3084-4ccb-97c0-4f8a13ab4c80",
   "metadata": {},
   "outputs": [
    {
     "name": "stdout",
     "output_type": "stream",
     "text": [
      "The average of numbers in list is:  5.5\n"
     ]
    }
   ],
   "source": [
    "my_list = [1,2,3,4,5,6,7,8,9,10]\n",
    "avg_list = 0\n",
    "sum_list = 0\n",
    "count = 0\n",
    "\n",
    "for i in my_list:\n",
    "    sum_list += i\n",
    "    count += 1\n",
    "avg_list = sum_list/count\n",
    "print(\"The average of numbers in list is: \", avg_list)\n"
   ]
  },
  {
   "cell_type": "code",
   "execution_count": 9,
   "id": "f649bec1-2294-46f8-8657-2b2b1e8607ed",
   "metadata": {},
   "outputs": [],
   "source": [
    "# 10. Develop a program that prints the first `n` Fibonacci numbers using a `for` loop."
   ]
  },
  {
   "cell_type": "code",
   "execution_count": 20,
   "id": "abf7c06f-b226-4f1f-8557-75d7059f89c0",
   "metadata": {},
   "outputs": [
    {
     "name": "stdin",
     "output_type": "stream",
     "text": [
      "Enter the nth number to generate fibonacci number series 5\n"
     ]
    },
    {
     "name": "stdout",
     "output_type": "stream",
     "text": [
      "0\n",
      "1\n",
      "1\n",
      "2\n",
      "3\n"
     ]
    }
   ],
   "source": [
    "num = int(input(\"Enter the nth number to generate fibonacci number series\"))\n",
    "first_num = 0\n",
    "second_num = 1\n",
    "third_num = first_num+second_num\n",
    "\n",
    "for i in range(0,num):\n",
    "    if i == 0:\n",
    "        print(first_num)\n",
    "    elif i == 1:\n",
    "        print(second_num)\n",
    "    elif i == 2:\n",
    "        print(third_num)\n",
    "    else:\n",
    "        next_num = third_num + second_num\n",
    "        print(next_num)\n",
    "        second_num = third_num\n",
    "        third_num = next_num       "
   ]
  },
  {
   "cell_type": "code",
   "execution_count": 21,
   "id": "04d07c65-63f5-49a5-8f0d-6f0a39508b8c",
   "metadata": {},
   "outputs": [],
   "source": [
    "# 11. Write a program to check if a given list contains any duplicates using a `for` loop."
   ]
  },
  {
   "cell_type": "code",
   "execution_count": 28,
   "id": "48c0db3a-7ec9-4533-a2e2-187cdd767f72",
   "metadata": {},
   "outputs": [
    {
     "name": "stdout",
     "output_type": "stream",
     "text": [
      "2 3 4 "
     ]
    }
   ],
   "source": [
    "my_list = [1,2,3,4,5,2,3,4,7,9]\n",
    "my_list_unique = []\n",
    "for i in my_list:\n",
    "    if i not in my_list_unique:\n",
    "        my_list_unique.append(i)\n",
    "    else:\n",
    "        print(i,end=' ')"
   ]
  },
  {
   "cell_type": "code",
   "execution_count": 29,
   "id": "91be43d7-72c0-44c2-8f8d-05cfadd2f4fc",
   "metadata": {},
   "outputs": [],
   "source": [
    "# 12. Create a program that prints the prime numbers in a given range using a `for` loop."
   ]
  },
  {
   "cell_type": "code",
   "execution_count": 4,
   "id": "67f03988-4431-4044-9cce-a75bec0e9201",
   "metadata": {},
   "outputs": [
    {
     "name": "stdin",
     "output_type": "stream",
     "text": [
      "Enter start range for prime number 1\n",
      "Enter end range for prime number 10\n"
     ]
    },
    {
     "name": "stdout",
     "output_type": "stream",
     "text": [
      "2 3 5 7\n"
     ]
    }
   ],
   "source": [
    "start_range = int(input(\"Enter start range for prime number\"))\n",
    "end_range = int(input(\"Enter end range for prime number\"))\n",
    "primes =[]\n",
    "\n",
    "for i in range(start_range, end_range + 1):\n",
    "    flag = 0\n",
    "\n",
    "    if i < 2:\n",
    "        continue\n",
    "    if i == 2:\n",
    "        primes.append(2)\n",
    "        continue\n",
    "\n",
    "    for x in range(2, i):\n",
    "        if i % x == 0:\n",
    "            flag = 1\n",
    "            break\n",
    "\n",
    "    if flag == 0:\n",
    "        primes.append(i)\n",
    "        \n",
    "print(*primes)"
   ]
  },
  {
   "cell_type": "code",
   "execution_count": 1,
   "id": "e4dad7d6-4a08-4957-a66b-8f8bc5ec0f68",
   "metadata": {},
   "outputs": [],
   "source": [
    "# 13. Develop a program that counts the number of vowels in a string using a `for` loop."
   ]
  },
  {
   "cell_type": "code",
   "execution_count": 4,
   "id": "a4b39556-422a-4b09-b2de-5866f2573ccd",
   "metadata": {},
   "outputs": [
    {
     "name": "stdout",
     "output_type": "stream",
     "text": [
      "Vowel count in string is:  3\n"
     ]
    }
   ],
   "source": [
    "my_string = \"science\"\n",
    "count = 0\n",
    "\n",
    "for i in my_string:\n",
    "    if i == \"a\" or i == \"e\" or i == \"i\" or i == \"o\" or i == \"u\":\n",
    "        count += 1\n",
    "print(\"Vowel count in string is: \", count)"
   ]
  },
  {
   "cell_type": "code",
   "execution_count": 5,
   "id": "b2046086-468a-411d-bf30-c6f9d4d7ea67",
   "metadata": {},
   "outputs": [],
   "source": [
    "# 14. Write a program to find the maximum element in a 2D list using a nested `for` loop."
   ]
  },
  {
   "cell_type": "code",
   "execution_count": 9,
   "id": "58834ab1-9399-40ff-8a95-190f9adb9889",
   "metadata": {},
   "outputs": [
    {
     "name": "stdout",
     "output_type": "stream",
     "text": [
      "The maximum element in 2D list is 9\n"
     ]
    }
   ],
   "source": [
    "my_list = [[1,2,3],[4,5,6],[7,8,9]]\n",
    "maximum = 0\n",
    "\n",
    "for i in my_list:\n",
    "    \n",
    "    for j in i:\n",
    "        maximum = max(j,maximum)\n",
    "print(\"The maximum element in 2D list is\",maximum)"
   ]
  },
  {
   "cell_type": "code",
   "execution_count": 10,
   "id": "07d2da23-86d8-462d-86b2-03a06d9f9fa2",
   "metadata": {},
   "outputs": [],
   "source": [
    "# 15. Create a program that removes all occurrences of a specific element from a list using a `for` loop."
   ]
  },
  {
   "cell_type": "code",
   "execution_count": 15,
   "id": "7e6c8417-cbb4-451b-8d32-8c339190c518",
   "metadata": {},
   "outputs": [
    {
     "name": "stdout",
     "output_type": "stream",
     "text": [
      "Updated list: [1, 2, 3, 5, 5]\n"
     ]
    }
   ],
   "source": [
    "my_list = [1,2,3,4,5,4,4,5]\n",
    "specific_element = 4\n",
    "list_without_specific_element = []\n",
    "\n",
    "for i in my_list:\n",
    "    if i != specific_element:\n",
    "        list_without_specific_element.append(i)\n",
    "        \n",
    "print(\"Updated list:\",list_without_specific_element)    "
   ]
  },
  {
   "cell_type": "code",
   "execution_count": 16,
   "id": "24c25324-9a30-42e1-b091-47df543c78c5",
   "metadata": {},
   "outputs": [],
   "source": [
    "# 16. Develop a program that generates a multiplication table for numbers from 1 to 5 using a nested `for` loop."
   ]
  },
  {
   "cell_type": "code",
   "execution_count": 31,
   "id": "0854f280-84e5-4155-8db3-f367282d870a",
   "metadata": {},
   "outputs": [
    {
     "name": "stdout",
     "output_type": "stream",
     "text": [
      "1 x 1= 1\n",
      "1 x 2= 2\n",
      "1 x 3= 3\n",
      "1 x 4= 4\n",
      "1 x 5= 5\n",
      "1 x 6= 6\n",
      "1 x 7= 7\n",
      "1 x 8= 8\n",
      "1 x 9= 9\n",
      "1 x 10= 10\n",
      "\n",
      "2 x 1= 2\n",
      "2 x 2= 4\n",
      "2 x 3= 6\n",
      "2 x 4= 8\n",
      "2 x 5= 10\n",
      "2 x 6= 12\n",
      "2 x 7= 14\n",
      "2 x 8= 16\n",
      "2 x 9= 18\n",
      "2 x 10= 20\n",
      "\n",
      "3 x 1= 3\n",
      "3 x 2= 6\n",
      "3 x 3= 9\n",
      "3 x 4= 12\n",
      "3 x 5= 15\n",
      "3 x 6= 18\n",
      "3 x 7= 21\n",
      "3 x 8= 24\n",
      "3 x 9= 27\n",
      "3 x 10= 30\n",
      "\n",
      "4 x 1= 4\n",
      "4 x 2= 8\n",
      "4 x 3= 12\n",
      "4 x 4= 16\n",
      "4 x 5= 20\n",
      "4 x 6= 24\n",
      "4 x 7= 28\n",
      "4 x 8= 32\n",
      "4 x 9= 36\n",
      "4 x 10= 40\n",
      "\n",
      "5 x 1= 5\n",
      "5 x 2= 10\n",
      "5 x 3= 15\n",
      "5 x 4= 20\n",
      "5 x 5= 25\n",
      "5 x 6= 30\n",
      "5 x 7= 35\n",
      "5 x 8= 40\n",
      "5 x 9= 45\n",
      "5 x 10= 50\n",
      "\n"
     ]
    }
   ],
   "source": [
    "for i in range(1,6):\n",
    "    for j in range(1,11):\n",
    "        print(f\"{i} x {j}=\", i * j)\n",
    "    print(\"\")"
   ]
  },
  {
   "cell_type": "code",
   "execution_count": 1,
   "id": "cdef0ba2-a5ea-4ec6-a719-0e49fe427b49",
   "metadata": {},
   "outputs": [],
   "source": [
    "# 17. Write a program that converts a list of Fahrenheit temperatures to Celsius using a `for` loop."
   ]
  },
  {
   "cell_type": "code",
   "execution_count": 6,
   "id": "1c9c4879-6c37-472d-839a-22821a837e84",
   "metadata": {},
   "outputs": [
    {
     "name": "stdout",
     "output_type": "stream",
     "text": [
      "Updated List with celsius: [100.0, 40.55555555555556, 26.666666666666668, 10.0, 0.0]\n"
     ]
    }
   ],
   "source": [
    "list_farenheit = [212,105,80,50,32]\n",
    "list_celsius = []\n",
    "celsicus = 0\n",
    "\n",
    "for i in list_farenheit:\n",
    "    c = (i-32)*5/9\n",
    "    list_celsius.append(c)\n",
    "print(\"Updated List with celsius:\",list_celsius)"
   ]
  },
  {
   "cell_type": "code",
   "execution_count": 7,
   "id": "cb9fe425-d43a-43c4-893c-b7e5890e6927",
   "metadata": {},
   "outputs": [],
   "source": [
    "# 18. Create a program to print the common elements from two lists using a `for` loop."
   ]
  },
  {
   "cell_type": "code",
   "execution_count": 9,
   "id": "e662b4d6-9c05-4545-a686-06f60aca0f35",
   "metadata": {},
   "outputs": [
    {
     "name": "stdout",
     "output_type": "stream",
     "text": [
      "List with common element is: [4, 6, 7, 3]\n"
     ]
    }
   ],
   "source": [
    "my_list1 = [4,6,7,9,3,2]\n",
    "my_list2 = [5,7,3,1,4,6]\n",
    "my_list_common = []\n",
    "\n",
    "for i in my_list1:\n",
    "    if i in my_list2:\n",
    "        my_list_common.append(i)\n",
    "print(\"List with common element is:\",my_list_common)"
   ]
  },
  {
   "cell_type": "code",
   "execution_count": 10,
   "id": "25758c87-4d1b-4709-a4f6-d9bb39a892bd",
   "metadata": {},
   "outputs": [],
   "source": [
    "# 19. Develop a program that prints the pattern of right-angled triangles using a `for` loop. Use ‘*’ to draw the pattern"
   ]
  },
  {
   "cell_type": "code",
   "execution_count": 16,
   "id": "f788fc9e-1c96-4e60-bbbc-81433b428bab",
   "metadata": {},
   "outputs": [
    {
     "name": "stdout",
     "output_type": "stream",
     "text": [
      "\n",
      "* \n",
      "* * \n",
      "* * * \n",
      "* * * * \n",
      "* * * * * \n",
      "* * * * * * \n",
      "* * * * * * * \n",
      "* * * * * * * * \n"
     ]
    }
   ],
   "source": [
    "for i in range(1,10):\n",
    "    for j in range(1,i):\n",
    "        print(\"* \",end=\"\")\n",
    "    print(\"\")"
   ]
  },
  {
   "cell_type": "code",
   "execution_count": 17,
   "id": "ab255496-57ba-487a-b2c6-a81e79fb582c",
   "metadata": {},
   "outputs": [],
   "source": [
    "# 20. Write a program to find the greatest common divisor (GCD) of two numbers using a `for` loop."
   ]
  },
  {
   "cell_type": "code",
   "execution_count": 26,
   "id": "37b686b8-34ba-4751-8a82-89450c4b81bb",
   "metadata": {},
   "outputs": [
    {
     "name": "stdout",
     "output_type": "stream",
     "text": [
      "The number of common divisors of 56 and 98 is : 14\n"
     ]
    }
   ],
   "source": [
    "num1, num2 = 56, 98\n",
    "greatest_common_divisor = 0\n",
    "\n",
    "for i in range(1,min(num1,num2)-1):\n",
    "    if num1%i == 0 and num2%i == 0:\n",
    "        greatest_common_divisor = i\n",
    "print(\"The number of common divisors of\", num1, \"and\", num2, \"is :\", greatest_common_divisor)"
   ]
  },
  {
   "cell_type": "code",
   "execution_count": 27,
   "id": "c3fed148-e591-4e39-8ea0-001e94d8731e",
   "metadata": {},
   "outputs": [],
   "source": [
    "# 21. Create a program that calculates the sum of the digits of numbers in a list using a list comprehension."
   ]
  },
  {
   "cell_type": "code",
   "execution_count": 49,
   "id": "1afd5b4d-d3f8-4bcc-bda4-07c6368e2eb5",
   "metadata": {},
   "outputs": [
    {
     "name": "stdout",
     "output_type": "stream",
     "text": [
      "The sum of digits of numbers in list [1, 1, 1, 1] is: 4\n"
     ]
    }
   ],
   "source": [
    "my_list = [5,8,10,12]\n",
    "sum_list = sum([i if i <= 9 else i%10 + i//10 for i in my_list])\n",
    "print(f\"The sum of digits of numbers in list {my_list} is:\",sum_list)"
   ]
  },
  {
   "cell_type": "code",
   "execution_count": null,
   "id": "0692274e-c2d0-4598-aadc-1bcb04853e8e",
   "metadata": {},
   "outputs": [],
   "source": [
    "# 22. Write a program to find the prime factors of a given number using a `for` loop and list comprehension."
   ]
  },
  {
   "cell_type": "code",
   "execution_count": 3,
   "id": "22c72dd3-86ef-443c-9e83-0b5a1482ec92",
   "metadata": {},
   "outputs": [
    {
     "name": "stdout",
     "output_type": "stream",
     "text": [
      "3 5 7 3\n"
     ]
    }
   ],
   "source": [
    "prime_factors = lambda n: [i for i in range(2, n+1) if n%i == 0 and all(i % j != 0 for j in range(2, int(i**0.5)+1))]\n",
    "n = 315\n",
    "factors = []\n",
    "\n",
    "while n > 1:\n",
    "    for factor in prime_factors(n):\n",
    "        factors.append(factor)\n",
    "        n //= factor\n",
    "\n",
    "print(*factors)"
   ]
  },
  {
   "cell_type": "code",
   "execution_count": 61,
   "id": "067a4ea7-fd3c-48dc-b7f3-48806aef1698",
   "metadata": {},
   "outputs": [],
   "source": [
    "# 23. Develop a program that extracts unique elements from a list and stores them in a new list using a list comprehension."
   ]
  },
  {
   "cell_type": "code",
   "execution_count": 2,
   "id": "8794009f-1407-4de0-83c0-bb2b86ea44a5",
   "metadata": {},
   "outputs": [
    {
     "name": "stdout",
     "output_type": "stream",
     "text": [
      "[1, 2, 3, 4, 5]\n"
     ]
    }
   ],
   "source": [
    "my_list = [1,2,3,2,1,4,5,3]\n",
    "unique_list = []\n",
    "\n",
    "[unique_list.append(i) for i in my_list if i not in unique_list]\n",
    "print(unique_list)"
   ]
  },
  {
   "cell_type": "code",
   "execution_count": null,
   "id": "8b7d095d-6048-4f16-9393-a236fdecc075",
   "metadata": {},
   "outputs": [],
   "source": [
    "# 24. Create a program that generates a list of all palindromic numbers up to a specified limit using a list comprehension."
   ]
  },
  {
   "cell_type": "code",
   "execution_count": 6,
   "id": "d9621352-1bdb-41c0-9295-77bfac59186b",
   "metadata": {},
   "outputs": [
    {
     "name": "stdin",
     "output_type": "stream",
     "text": [
      "Enter starting point number to check palindromic number 350\n",
      "Enter end number to check palindromic number 494\n"
     ]
    },
    {
     "name": "stdout",
     "output_type": "stream",
     "text": [
      "Palindromic numbers between range 350 and 494 are: [353, 363, 373, 383, 393, 404, 414, 424, 434, 444, 454, 464, 474, 484, 494]\n"
     ]
    }
   ],
   "source": [
    "num_start = int(input(\"Enter starting point number to check palindromic number\"))\n",
    "num_end_limit = int(input(\"Enter end number to check palindromic number\"))\n",
    "\n",
    "palindromes = [num for num in range(num_start,num_end_limit+1) if str(num) == str(num)[::-1]]\n",
    "print(f\"Palindromic numbers between range {num_start} and {num_end_limit} are:\", palindromes)"
   ]
  },
  {
   "cell_type": "code",
   "execution_count": 7,
   "id": "02e639b9-c1b6-4d1c-aad1-447522edfdd7",
   "metadata": {},
   "outputs": [],
   "source": [
    "# 25. Write a program to flatten a nested list using list comprehension."
   ]
  },
  {
   "cell_type": "code",
   "execution_count": 9,
   "id": "d8c807c3-8916-48b9-a969-6142bf604d49",
   "metadata": {},
   "outputs": [
    {
     "name": "stdout",
     "output_type": "stream",
     "text": [
      "List [[11, 22, 33, 44], [55, 66, 77], [88, 99, 100]]\n",
      "Flat List [11, 22, 33, 44, 55, 66, 77, 88, 99, 100]\n"
     ]
    }
   ],
   "source": [
    "my_list = [[11, 22, 33, 44], [55, 66, 77], [88, 99, 100]]\n",
    " \n",
    "flatList = [element for innerList in my_list for element in innerList]\n",
    " \n",
    "print('List', my_list)\n",
    "print('Flatten List', flatList)"
   ]
  },
  {
   "cell_type": "code",
   "execution_count": null,
   "id": "58ea6b27-b372-4f3c-b6d6-bb6933c15427",
   "metadata": {},
   "outputs": [],
   "source": []
  }
 ],
 "metadata": {
  "kernelspec": {
   "display_name": "Python 3 (ipykernel)",
   "language": "python",
   "name": "python3"
  },
  "language_info": {
   "codemirror_mode": {
    "name": "ipython",
    "version": 3
   },
   "file_extension": ".py",
   "mimetype": "text/x-python",
   "name": "python",
   "nbconvert_exporter": "python",
   "pygments_lexer": "ipython3",
   "version": "3.10.8"
  }
 },
 "nbformat": 4,
 "nbformat_minor": 5
}
