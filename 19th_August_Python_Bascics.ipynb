{
 "cells": [
  {
   "cell_type": "code",
   "execution_count": 42,
   "id": "c527959c-b8a3-4218-aef2-8cc9cf62a5f2",
   "metadata": {},
   "outputs": [
    {
     "data": {
      "text/plain": [
       "' 1. Declare two variables, `x` and `y`, and assign them integer values.\\nSwap the values of these variables without using any temporary\\nvariable.'"
      ]
     },
     "execution_count": 42,
     "metadata": {},
     "output_type": "execute_result"
    }
   ],
   "source": [
    "''' 1. Declare two variables, `x` and `y`, and assign them integer values.\n",
    "Swap the values of these variables without using any temporary\n",
    "variable.'''"
   ]
  },
  {
   "cell_type": "code",
   "execution_count": 46,
   "id": "4479d3d0-1bec-4019-b74e-af95f369a88f",
   "metadata": {},
   "outputs": [
    {
     "name": "stdout",
     "output_type": "stream",
     "text": [
      "Value of x: 50\n",
      "Value of y: 10\n"
     ]
    }
   ],
   "source": [
    "x = 10\n",
    "y = 50\n",
    " \n",
    "x, y = y, x\n",
    " \n",
    "print(\"Value of x:\", x)\n",
    "print(\"Value of y:\", y)"
   ]
  },
  {
   "cell_type": "code",
   "execution_count": 47,
   "id": "980fbca0-124c-488c-8a8b-31fecfca6a94",
   "metadata": {},
   "outputs": [
    {
     "data": {
      "text/plain": [
       "' 2. Create a program that calculates the area of a rectangle. Take the\\nlength and width as inputs from the user and store them in variables.\\nCalculate and display the area.'"
      ]
     },
     "execution_count": 47,
     "metadata": {},
     "output_type": "execute_result"
    }
   ],
   "source": [
    "''' 2. Create a program that calculates the area of a rectangle. Take the\n",
    "length and width as inputs from the user and store them in variables.\n",
    "Calculate and display the area.'''"
   ]
  },
  {
   "cell_type": "code",
   "execution_count": 72,
   "id": "f5cba261-224c-4bde-b56a-43ae60cfed42",
   "metadata": {},
   "outputs": [
    {
     "name": "stdin",
     "output_type": "stream",
     "text": [
      "Please enter rectangle length: 123\n"
     ]
    }
   ],
   "source": [
    "lenth = int(input(\"Please enter rectangle length:\"))"
   ]
  },
  {
   "cell_type": "code",
   "execution_count": 73,
   "id": "82d31471-10bd-4272-a06d-567e5cca8104",
   "metadata": {},
   "outputs": [
    {
     "name": "stdin",
     "output_type": "stream",
     "text": [
      "Please enter rectangle width: 123\n"
     ]
    }
   ],
   "source": [
    "width = int(input(\"Please enter rectangle width:\"))"
   ]
  },
  {
   "cell_type": "code",
   "execution_count": 74,
   "id": "21afbd59-a4b7-4456-a749-1de578da3921",
   "metadata": {},
   "outputs": [],
   "source": [
    "area = lenth*width"
   ]
  },
  {
   "cell_type": "code",
   "execution_count": 75,
   "id": "292dcef1-0889-4edf-a4e7-a48e43013271",
   "metadata": {},
   "outputs": [
    {
     "name": "stdout",
     "output_type": "stream",
     "text": [
      "The area of rectangle is: 15129\n"
     ]
    }
   ],
   "source": [
    "print(\"The area of rectangle is:\", area)"
   ]
  },
  {
   "cell_type": "code",
   "execution_count": 76,
   "id": "f0d30d6b-937b-485c-aa5c-fd42827a649e",
   "metadata": {},
   "outputs": [
    {
     "data": {
      "text/plain": [
       "'3. Write a Python program that converts temperature from Celsius to\\nFahrenheit. Take the temperature in Celsius as input, store it in a\\nvariable, convert it to Fahrenheit, and display the result.'"
      ]
     },
     "execution_count": 76,
     "metadata": {},
     "output_type": "execute_result"
    }
   ],
   "source": [
    "'''3. Write a Python program that converts temperature from Celsius to\n",
    "Fahrenheit. Take the temperature in Celsius as input, store it in a\n",
    "variable, convert it to Fahrenheit, and display the result.'''"
   ]
  },
  {
   "cell_type": "code",
   "execution_count": 77,
   "id": "ccbdfd23-6084-4449-802c-816378684897",
   "metadata": {},
   "outputs": [
    {
     "name": "stdin",
     "output_type": "stream",
     "text": [
      "Temprature value in celsius: 40.34\n"
     ]
    }
   ],
   "source": [
    "celsius = float(input(\"Temprature value in celsius:\"))"
   ]
  },
  {
   "cell_type": "code",
   "execution_count": 78,
   "id": "a7552ac9-6166-42ff-a786-80c1f8072830",
   "metadata": {},
   "outputs": [],
   "source": [
    "fahrenheit = (celsius * 1.8) + 32"
   ]
  },
  {
   "cell_type": "code",
   "execution_count": 79,
   "id": "b110865e-dba4-4561-96df-fbb73086595f",
   "metadata": {},
   "outputs": [
    {
     "name": "stdout",
     "output_type": "stream",
     "text": [
      "Temperature in Fahrenheit : 104.61200000000001\n"
     ]
    }
   ],
   "source": [
    "print(\"Temperature in Fahrenheit :\", fahrenheit)"
   ]
  },
  {
   "cell_type": "code",
   "execution_count": 80,
   "id": "fb9301a7-7a92-4f1a-85d6-be64965e4aba",
   "metadata": {},
   "outputs": [],
   "source": [
    "#TOPIC: String Based Questions"
   ]
  },
  {
   "cell_type": "code",
   "execution_count": 81,
   "id": "626fa382-f672-43d1-8ac6-0416dcd10b26",
   "metadata": {},
   "outputs": [
    {
     "data": {
      "text/plain": [
       "'1. Write a Python program that takes a string as input and prints the\\nlength of the string.'"
      ]
     },
     "execution_count": 81,
     "metadata": {},
     "output_type": "execute_result"
    }
   ],
   "source": [
    "'''1. Write a Python program that takes a string as input and prints the\n",
    "length of the string.'''"
   ]
  },
  {
   "cell_type": "code",
   "execution_count": 90,
   "id": "6facec7f-6cc1-4237-8347-855a0365baa5",
   "metadata": {},
   "outputs": [
    {
     "name": "stdin",
     "output_type": "stream",
     "text": [
      " Hello World!\n"
     ]
    }
   ],
   "source": [
    "s = input()"
   ]
  },
  {
   "cell_type": "code",
   "execution_count": 91,
   "id": "1165a834-266c-434f-9678-b27f00fadf95",
   "metadata": {},
   "outputs": [
    {
     "data": {
      "text/plain": [
       "12"
      ]
     },
     "execution_count": 91,
     "metadata": {},
     "output_type": "execute_result"
    }
   ],
   "source": [
    "len(s)"
   ]
  },
  {
   "cell_type": "code",
   "execution_count": 92,
   "id": "d8205e46-999b-4e0e-83b3-cdbef1825ce3",
   "metadata": {},
   "outputs": [
    {
     "data": {
      "text/plain": [
       "'2. Create a program that takes a sentence from the user and counts the\\nnumber of vowels (a, e, i, o, u) in the string.'"
      ]
     },
     "execution_count": 92,
     "metadata": {},
     "output_type": "execute_result"
    }
   ],
   "source": [
    "'''2. Create a program that takes a sentence from the user and counts the\n",
    "number of vowels (a, e, i, o, u) in the string.'''"
   ]
  },
  {
   "cell_type": "code",
   "execution_count": 165,
   "id": "9382b3f7-c69d-40bd-a509-0135f23970e8",
   "metadata": {},
   "outputs": [
    {
     "name": "stdin",
     "output_type": "stream",
     "text": [
      "Enter your sentence: this is my first python class\n"
     ]
    }
   ],
   "source": [
    "sentence = input(\"Enter your sentence:\")"
   ]
  },
  {
   "cell_type": "code",
   "execution_count": 166,
   "id": "e5f076b4-8c1e-4542-92c3-d0a765020135",
   "metadata": {},
   "outputs": [],
   "source": [
    "sentence = sentence.lower()"
   ]
  },
  {
   "cell_type": "code",
   "execution_count": 167,
   "id": "67c6bfed-ffe1-4244-8760-b6a419215e37",
   "metadata": {},
   "outputs": [],
   "source": [
    "vowels = sentence.count('a') + sentence.count('e') + sentence.count('i') + sentence.count('o') + sentence.count('u')"
   ]
  },
  {
   "cell_type": "code",
   "execution_count": 168,
   "id": "9144b8da-a3c5-4854-86db-35eae7b74aae",
   "metadata": {},
   "outputs": [
    {
     "name": "stdout",
     "output_type": "stream",
     "text": [
      "Total vowels found is/are: 5\n"
     ]
    }
   ],
   "source": [
    "print(\"Total vowels found is/are:\", vowels)"
   ]
  },
  {
   "cell_type": "code",
   "execution_count": 169,
   "id": "5d29eec4-74af-40da-b4d1-debf3245e447",
   "metadata": {},
   "outputs": [
    {
     "data": {
      "text/plain": [
       "' 3. Given a string, reverse the order of characters using string slicing and\\nprint the reversed string.'"
      ]
     },
     "execution_count": 169,
     "metadata": {},
     "output_type": "execute_result"
    }
   ],
   "source": [
    "''' 3. Given a string, reverse the order of characters using string slicing and\n",
    "print the reversed string.'''"
   ]
  },
  {
   "cell_type": "code",
   "execution_count": 170,
   "id": "74a75894-7cf3-4d88-b85e-deaa91e750b2",
   "metadata": {},
   "outputs": [],
   "source": [
    "s = \"Hello World!\""
   ]
  },
  {
   "cell_type": "code",
   "execution_count": 171,
   "id": "3524f0c1-c31f-4975-9321-6c8827b2982c",
   "metadata": {},
   "outputs": [
    {
     "data": {
      "text/plain": [
       "'!dlroW olleH'"
      ]
     },
     "execution_count": 171,
     "metadata": {},
     "output_type": "execute_result"
    }
   ],
   "source": [
    "s[::-1]"
   ]
  },
  {
   "cell_type": "code",
   "execution_count": 172,
   "id": "3016ecd0-1816-4a06-b64c-1be6ea80c844",
   "metadata": {},
   "outputs": [
    {
     "data": {
      "text/plain": [
       "' 4. Write a program that takes a string as input and checks if it is a\\npalindrome (reads the same forwards and backwards).'"
      ]
     },
     "execution_count": 172,
     "metadata": {},
     "output_type": "execute_result"
    }
   ],
   "source": [
    "''' 4. Write a program that takes a string as input and checks if it is a\n",
    "palindrome (reads the same forwards and backwards).'''"
   ]
  },
  {
   "cell_type": "code",
   "execution_count": 178,
   "id": "e484f4b5-fe46-4dae-bc91-a1108a9da9e4",
   "metadata": {},
   "outputs": [
    {
     "name": "stdin",
     "output_type": "stream",
     "text": [
      "Enter the string to check if it is a palindrome:  radar\n"
     ]
    }
   ],
   "source": [
    "s = input (\"Enter the string to check if it is a palindrome: \")"
   ]
  },
  {
   "cell_type": "code",
   "execution_count": 179,
   "id": "e38a7cbd-6c4f-4414-a868-11894c6ff8c3",
   "metadata": {},
   "outputs": [],
   "source": [
    "s = s.casefold()"
   ]
  },
  {
   "cell_type": "code",
   "execution_count": 180,
   "id": "d41a1493-c0ed-4481-929c-bf2052b4678e",
   "metadata": {},
   "outputs": [],
   "source": [
    "rev_s = s[::-1]"
   ]
  },
  {
   "cell_type": "code",
   "execution_count": 181,
   "id": "a353f2cb-a67b-479d-8474-e1e9f16b8024",
   "metadata": {},
   "outputs": [
    {
     "name": "stdout",
     "output_type": "stream",
     "text": [
      "The string is a palindrome.\n"
     ]
    }
   ],
   "source": [
    "if s == rev_s:\n",
    "      print (\"The string is a palindrome.\")\n",
    "\n",
    "else:\n",
    "\n",
    "    print (\"The string is not a palindrome.\")"
   ]
  },
  {
   "cell_type": "code",
   "execution_count": null,
   "id": "fd5ce185-72ce-408a-b1d8-28bc65c9e9f1",
   "metadata": {},
   "outputs": [],
   "source": []
  },
  {
   "cell_type": "code",
   "execution_count": 182,
   "id": "764f353f-7b48-4ed1-87c8-fa14fd928a84",
   "metadata": {},
   "outputs": [
    {
     "data": {
      "text/plain": [
       "' 5. Create a program that takes a string as input and removes all the\\nspaces from it. Print the modified string without spaces.'"
      ]
     },
     "execution_count": 182,
     "metadata": {},
     "output_type": "execute_result"
    }
   ],
   "source": [
    "''' 5. Create a program that takes a string as input and removes all the\n",
    "spaces from it. Print the modified string without spaces.'''"
   ]
  },
  {
   "cell_type": "code",
   "execution_count": 204,
   "id": "d8097299-2398-41ab-ae25-5fbb7d6c6b58",
   "metadata": {},
   "outputs": [
    {
     "name": "stdin",
     "output_type": "stream",
     "text": [
      "Please enter a string:  welcome to the world of data science\n"
     ]
    }
   ],
   "source": [
    "s = input(\"Please enter a string: \")"
   ]
  },
  {
   "cell_type": "code",
   "execution_count": 205,
   "id": "b42681a0-544b-484b-9ff5-4ba9f7349ef5",
   "metadata": {},
   "outputs": [
    {
     "data": {
      "text/plain": [
       "'welcometotheworldofdatascience'"
      ]
     },
     "execution_count": 205,
     "metadata": {},
     "output_type": "execute_result"
    }
   ],
   "source": [
    "s.replace(\" \",\"\")"
   ]
  },
  {
   "cell_type": "code",
   "execution_count": null,
   "id": "08accb3a-894a-45da-a403-a2ca00ac59ac",
   "metadata": {},
   "outputs": [],
   "source": []
  },
  {
   "cell_type": "code",
   "execution_count": null,
   "id": "c68bd1be-3992-4d0e-b33e-01e0de60509c",
   "metadata": {},
   "outputs": [],
   "source": []
  }
 ],
 "metadata": {
  "kernelspec": {
   "display_name": "Python 3 (ipykernel)",
   "language": "python",
   "name": "python3"
  },
  "language_info": {
   "codemirror_mode": {
    "name": "ipython",
    "version": 3
   },
   "file_extension": ".py",
   "mimetype": "text/x-python",
   "name": "python",
   "nbconvert_exporter": "python",
   "pygments_lexer": "ipython3",
   "version": "3.10.8"
  }
 },
 "nbformat": 4,
 "nbformat_minor": 5
}
