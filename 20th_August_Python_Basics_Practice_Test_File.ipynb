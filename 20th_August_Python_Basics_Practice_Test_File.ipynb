{
 "cells": [
  {
   "cell_type": "code",
   "execution_count": 38,
   "id": "ca646076-c0c4-4b06-9f21-7b1d55a073b5",
   "metadata": {},
   "outputs": [
    {
     "data": {
      "text/plain": [
       "'.dlroW olleH'"
      ]
     },
     "execution_count": 38,
     "metadata": {},
     "output_type": "execute_result"
    }
   ],
   "source": [
    "# 1. Write a program to reverse a string.\n",
    "\n",
    "s = \"Hello World.\"\n",
    "s[::-1]"
   ]
  },
  {
   "cell_type": "code",
   "execution_count": 37,
   "id": "0d902bbb-44a9-4440-aa67-8c9bbdec8b32",
   "metadata": {},
   "outputs": [
    {
     "data": {
      "text/plain": [
       "'HELLO WORLD'"
      ]
     },
     "execution_count": 37,
     "metadata": {},
     "output_type": "execute_result"
    }
   ],
   "source": [
    "# 2. Write a program to reverse a string.\n",
    "\n",
    "s = \"Hello World\"\n",
    "s.upper()"
   ]
  },
  {
   "cell_type": "code",
   "execution_count": 11,
   "id": "7f1dec57-ce67-4f6b-ab5a-273de13b0e1c",
   "metadata": {},
   "outputs": [
    {
     "name": "stdout",
     "output_type": "stream",
     "text": [
      "The string is not a palindrome.\n"
     ]
    }
   ],
   "source": [
    "s = \"Hello World\"\n",
    "s = s.casefold()\n",
    "rev_s = s[::-1]\n",
    "if s == rev_s:\n",
    "      print (\"The string is a palindrome.\")\n",
    "\n",
    "else:\n",
    "\n",
    "    print (\"The string is not a palindrome.\")"
   ]
  },
  {
   "cell_type": "code",
   "execution_count": 36,
   "id": "9134dfca-a002-4602-a155-4cb05f8f4624",
   "metadata": {},
   "outputs": [],
   "source": [
    "# 3. Convert a string to uppercase."
   ]
  },
  {
   "cell_type": "code",
   "execution_count": 14,
   "id": "2eda13a2-be47-4cdb-a5f7-7c46e494d59c",
   "metadata": {},
   "outputs": [
    {
     "data": {
      "text/plain": [
       "'HELLO WORLD'"
      ]
     },
     "execution_count": 14,
     "metadata": {},
     "output_type": "execute_result"
    }
   ],
   "source": []
  },
  {
   "cell_type": "code",
   "execution_count": 35,
   "id": "54790c52-bc2c-4e91-bf08-72723dc49690",
   "metadata": {},
   "outputs": [
    {
     "data": {
      "text/plain": [
       "'hello world'"
      ]
     },
     "execution_count": 35,
     "metadata": {},
     "output_type": "execute_result"
    }
   ],
   "source": [
    "# 4. Convert a string to lowercase.\n",
    "\n",
    "s = \"Hello World\"\n",
    "s.lower()"
   ]
  },
  {
   "cell_type": "code",
   "execution_count": 32,
   "id": "9eaaae1e-ce9d-46b6-89ea-e8ee178f7840",
   "metadata": {},
   "outputs": [
    {
     "name": "stdout",
     "output_type": "stream",
     "text": [
      "Total vowels found is/are: 3\n"
     ]
    }
   ],
   "source": [
    "# 5. Count the number of vowels in a string.\n",
    "\n",
    "s = \"Hello World\"\n",
    "s = s.lower()\n",
    "vowels = 0\n",
    "for i in s:\n",
    "    if i==\"a\" or i==\"e\" or i==\"i\" or i==\"o\" or i==\"u\":\n",
    "        vowels += 1\n",
    "print(\"Total vowels found is/are:\", vowels)"
   ]
  },
  {
   "cell_type": "code",
   "execution_count": 33,
   "id": "ab972fd8-d56d-4ebd-8750-e4bd7d9ff2e7",
   "metadata": {},
   "outputs": [
    {
     "name": "stdout",
     "output_type": "stream",
     "text": [
      "Total consonants found is/are: 8\n"
     ]
    }
   ],
   "source": [
    "# 6. Count the number of consonants in a string.\n",
    "\n",
    "s = \"Hello World\"\n",
    "s = s.lower()\n",
    "consonants = 0\n",
    "for i in s:\n",
    "    if i!=\"a\" and i!=\"e\" and i!=\"i\" and i!=\"o\" and i!=\"u\":\n",
    "        consonants += 1\n",
    "print(\"Total consonants found is/are:\", consonants)"
   ]
  },
  {
   "cell_type": "code",
   "execution_count": 40,
   "id": "91f649db-924c-471f-8862-c43d6af438cc",
   "metadata": {},
   "outputs": [
    {
     "data": {
      "text/plain": [
       "'Hello World'"
      ]
     },
     "execution_count": 40,
     "metadata": {},
     "output_type": "execute_result"
    }
   ],
   "source": [
    "# 7. Remove all whitespaces from a string.\n",
    "\n",
    "s = \"      Hello World   \"\n",
    "s.strip()"
   ]
  },
  {
   "cell_type": "code",
   "execution_count": 41,
   "id": "632ce7e0-9a41-4ec2-8b87-29d243e88916",
   "metadata": {},
   "outputs": [
    {
     "data": {
      "text/plain": [
       "11"
      ]
     },
     "execution_count": 41,
     "metadata": {},
     "output_type": "execute_result"
    }
   ],
   "source": [
    "# 8. Find the length of a string without using the `len()` function.\n",
    "\n",
    "s = \"Hello World\"\n",
    "len(s)"
   ]
  },
  {
   "cell_type": "code",
   "execution_count": 49,
   "id": "78591916-880e-4de0-9ef2-d85fba4868d4",
   "metadata": {},
   "outputs": [
    {
     "name": "stdin",
     "output_type": "stream",
     "text": [
      "Enter a word to check in string World\n"
     ]
    },
    {
     "name": "stdout",
     "output_type": "stream",
     "text": [
      "String contains the word entered\n"
     ]
    }
   ],
   "source": [
    "# 9. Check if a string contains a specific word.\n",
    "\n",
    "s = \"Hello World\"\n",
    "s = s.lower()\n",
    "\n",
    "sword = input(\"Enter a word to check in string\")\n",
    "sword = sword.lower()\n",
    "\n",
    "if sword in s:\n",
    "    print(\"String contains the word entered\")\n",
    "else:\n",
    "    print(\"String does not contains entered word\")\n",
    "    "
   ]
  },
  {
   "cell_type": "code",
   "execution_count": 51,
   "id": "73e5d0bf-4de7-482b-b10c-3e0b270d65ba",
   "metadata": {},
   "outputs": [
    {
     "data": {
      "text/plain": [
       "'Welcome World'"
      ]
     },
     "execution_count": 51,
     "metadata": {},
     "output_type": "execute_result"
    }
   ],
   "source": [
    "# 10. Replace a word in a string with another word.\n",
    "\n",
    "s = \"Hello World\"\n",
    "s.replace(\"Hello\",\"Welcome\")"
   ]
  },
  {
   "cell_type": "code",
   "execution_count": 55,
   "id": "d5c594e7-dfc4-4443-b58e-2568623d0b78",
   "metadata": {},
   "outputs": [
    {
     "name": "stdin",
     "output_type": "stream",
     "text": [
      "Enter a word to find its occurances in string WORLD\n"
     ]
    },
    {
     "name": "stdout",
     "output_type": "stream",
     "text": [
      "3\n"
     ]
    }
   ],
   "source": [
    "# 11. Count the occurrences of a word in a string.\n",
    "\n",
    "s = \"Hello World World World\"\n",
    "s = s.lower()\n",
    "\n",
    "sword = input(\"Enter a word to find its occurances in string\")\n",
    "sword = sword.lower()\n",
    "\n",
    "if sword in s:\n",
    "    print(s.count(sword))"
   ]
  },
  {
   "cell_type": "code",
   "execution_count": 65,
   "id": "637e1cd0-cceb-4fde-8c54-0e8f685ead8e",
   "metadata": {},
   "outputs": [
    {
     "name": "stdin",
     "output_type": "stream",
     "text": [
      "Enter a word to find its first occurance in string WORLD\n"
     ]
    },
    {
     "name": "stdout",
     "output_type": "stream",
     "text": [
      "The first occurance is at 6 position\n"
     ]
    }
   ],
   "source": [
    "# 12. Find the first occurrence of a word in a string.\n",
    "\n",
    "s = \"Hello World World World\"\n",
    "s = s.lower()\n",
    "\n",
    "sword = input(\"Enter a word to find its first occurance in string\")\n",
    "sword = sword.lower()\n",
    "\n",
    "if sword in s:\n",
    "    print(\"The first occurance is at {0} position\".format(s.find(sword)))"
   ]
  },
  {
   "cell_type": "code",
   "execution_count": 69,
   "id": "df9d9869-0760-4593-80e0-0642dc18f7a1",
   "metadata": {},
   "outputs": [
    {
     "name": "stdin",
     "output_type": "stream",
     "text": [
      "Enter a word to find its last occurance in string world\n"
     ]
    },
    {
     "name": "stdout",
     "output_type": "stream",
     "text": [
      "The first occurance is at 18 position\n"
     ]
    }
   ],
   "source": [
    "# Find the last occurrence of a word in a string.\n",
    "\n",
    "s = \"Hello World World World\"\n",
    "s = s.lower()\n",
    "\n",
    "sword = input(\"Enter a word to find its last occurance in string\")\n",
    "sword = sword.lower()\n",
    "\n",
    "if sword in s:\n",
    "    print(\"The first occurance is at {0} position\".format(s.rindex(sword)))"
   ]
  },
  {
   "cell_type": "code",
   "execution_count": 73,
   "id": "e5eb4c1e-c1d7-468c-89d8-ab9002240858",
   "metadata": {},
   "outputs": [
    {
     "name": "stdout",
     "output_type": "stream",
     "text": [
      "List of words are: ['Welcome', 'to', 'the', 'World', 'of', 'Data', 'Science']\n"
     ]
    }
   ],
   "source": [
    "# 14. Split a string into a list of words.\n",
    "\n",
    "s = \"Welcome to the World of Data Science\"\n",
    "lword = s.split(\" \")\n",
    "print(\"List of words are:\",lword)"
   ]
  },
  {
   "cell_type": "code",
   "execution_count": 75,
   "id": "adfbea38-3963-4113-b50a-f2c07aaea71c",
   "metadata": {},
   "outputs": [
    {
     "name": "stdout",
     "output_type": "stream",
     "text": [
      "Welcome to the World of Data Science\n"
     ]
    }
   ],
   "source": [
    "# 15. Join a list of words into a string.\n",
    "\n",
    "lword = ['Welcome', 'to', 'the', 'World', 'of', 'Data', 'Science']\n",
    "s = \" \".join(lword)\n",
    "print(s)"
   ]
  },
  {
   "cell_type": "code",
   "execution_count": 76,
   "id": "6386be0d-f948-4b60-8bd3-10b3d9061fc0",
   "metadata": {},
   "outputs": [
    {
     "name": "stdout",
     "output_type": "stream",
     "text": [
      "Welcome_to_the_World_of_Data_Science\n"
     ]
    }
   ],
   "source": [
    "# 16. Convert a string where words are separated by spaces to one where words are separated by underscores.\n",
    "\n",
    "s = \"Welcome to the World of Data Science\"\n",
    "s = s.replace(\" \",\"_\")\n",
    "print(s)"
   ]
  },
  {
   "cell_type": "code",
   "execution_count": 83,
   "id": "64db1ab7-480c-41db-868a-d0eb4bdce4bc",
   "metadata": {},
   "outputs": [
    {
     "name": "stdout",
     "output_type": "stream",
     "text": [
      "The string start with Welcome\n"
     ]
    }
   ],
   "source": [
    "# 17. Check if a string starts with a specific word or phrase.\n",
    "\n",
    "s = \"Welcome to the World of Data Science\"\n",
    "\n",
    "if s.startswith(\"Welcome\"):\n",
    "    print(\"The string start with word Welcome\")\n",
    "else:\n",
    "    print(\"The string does not start with word Welcome\")"
   ]
  },
  {
   "cell_type": "code",
   "execution_count": 86,
   "id": "9a5983de-949d-4501-a320-014cc0a6ece2",
   "metadata": {},
   "outputs": [
    {
     "name": "stdout",
     "output_type": "stream",
     "text": [
      "The string ends with word Science\n"
     ]
    }
   ],
   "source": [
    "# 18. Check if a string ends with a specific word or phrase.\n",
    "\n",
    "s = \"Welcome to the World of Data Science\"\n",
    "\n",
    "if s.endswith(\"Science\"):\n",
    "    print(\"The string ends with word Science\")\n",
    "else:\n",
    "    print(\"The string does not ends with word Science\")"
   ]
  },
  {
   "cell_type": "code",
   "execution_count": 89,
   "id": "9215016c-c26a-46ef-96d2-0102ce962287",
   "metadata": {},
   "outputs": [
    {
     "name": "stdout",
     "output_type": "stream",
     "text": [
      "Hello World\n"
     ]
    }
   ],
   "source": [
    "# 19. Convert a string to title case (e.g., \"hello world\" to \"Hello World\").\n",
    "\n",
    "s = \"hello world\"\n",
    "print(s.title())"
   ]
  },
  {
   "cell_type": "code",
   "execution_count": 99,
   "id": "d6afd197-4206-427c-a996-d101870cba13",
   "metadata": {},
   "outputs": [
    {
     "name": "stdout",
     "output_type": "stream",
     "text": [
      "Logest word in the given string is: Welcome\n"
     ]
    }
   ],
   "source": [
    "# 20. Find the longest word in a string.\n",
    "\n",
    "s = \"Welcome to the World of Data Science\"\n",
    "lword = s.split()\n",
    "\n",
    "longest_word = \"\"\n",
    "max_length = 0\n",
    "\n",
    "for word in lword:\n",
    "    if len(word) > max_length:\n",
    "        max_length = len(word)\n",
    "        longest_word = word\n",
    "    \n",
    "print(\"Logest word in the given string is:\",longest_word)"
   ]
  },
  {
   "cell_type": "code",
   "execution_count": 105,
   "id": "527863bd-b84f-4066-bee5-145de7c61f65",
   "metadata": {},
   "outputs": [
    {
     "name": "stdout",
     "output_type": "stream",
     "text": [
      "Logest word in the given string is: to\n"
     ]
    }
   ],
   "source": [
    "# 21. Find the shortest word in a string.\n",
    "\n",
    "s = \"Welcome to the World of Data Science\"\n",
    "lword = s.split()\n",
    "\n",
    "shortest_word = \"\"\n",
    "min_length = float('inf')\n",
    "\n",
    "for word in lword:\n",
    "    if len(word) < min_length:\n",
    "        min_length = len(word)\n",
    "        shortest_word = word\n",
    "    \n",
    "print(\"Logest word in the given string is:\",shortest_word)"
   ]
  },
  {
   "cell_type": "code",
   "execution_count": 120,
   "id": "0a689118-ab09-473d-a6c1-22edda2ef84f",
   "metadata": {},
   "outputs": [
    {
     "name": "stdout",
     "output_type": "stream",
     "text": [
      "Science Data of World the to Welcome\n"
     ]
    }
   ],
   "source": [
    "# 22. Reverse the order of words in a string.\n",
    "\n",
    "s = \"Welcome to the World of Data Science\"\n",
    "\n",
    "l1 = s.split()[::-1]\n",
    "print(\" \".join(l1))"
   ]
  },
  {
   "cell_type": "code",
   "execution_count": 123,
   "id": "bc0f22ab-e324-4f8d-86f8-b629645a510d",
   "metadata": {},
   "outputs": [
    {
     "name": "stdout",
     "output_type": "stream",
     "text": [
      "The string is alphanumeric.\n"
     ]
    }
   ],
   "source": [
    "# 23. Check if a string is alphanumeric.\n",
    "\n",
    "s = \"Welcome123\"\n",
    "\n",
    "if s.isalnum():\n",
    "    print(\"The string is alphanumeric.\")\n",
    "else:\n",
    "    print(\"The string is not alphanumeric.\")"
   ]
  },
  {
   "cell_type": "code",
   "execution_count": 125,
   "id": "397132ce-f6a7-4f8c-9a24-b81cfd0a6caa",
   "metadata": {},
   "outputs": [
    {
     "name": "stdout",
     "output_type": "stream",
     "text": [
      "Digits present in string are: 123456\n"
     ]
    }
   ],
   "source": [
    "# 24. Extract all digits from a string.\n",
    "\n",
    "s = \"Welcome123 Hello 456\"\n",
    "\n",
    "digits = \"\"\n",
    "\n",
    "for char in s:\n",
    "    if char.isdigit():\n",
    "        digits += char\n",
    "print(\"Digits present in string are:\", digits)\n",
    "        "
   ]
  },
  {
   "cell_type": "code",
   "execution_count": 126,
   "id": "cbf663ee-fb6a-4265-9b3f-c5b7d9c6bda3",
   "metadata": {},
   "outputs": [
    {
     "name": "stdout",
     "output_type": "stream",
     "text": [
      "Alphabets present in string are: WelcomeHello\n"
     ]
    }
   ],
   "source": [
    "# 25. Extract all alphabets from a string.\n",
    "\n",
    "s = \"Welcome123 Hello 456\"\n",
    "\n",
    "alphabets = \"\"\n",
    "\n",
    "for char in s:\n",
    "    if char.isalpha():\n",
    "        alphabets += char\n",
    "print(\"Alphabets present in string are:\", alphabets)"
   ]
  },
  {
   "cell_type": "code",
   "execution_count": 129,
   "id": "c9b076bf-36cc-4c35-95c1-45005fef7510",
   "metadata": {},
   "outputs": [
    {
     "name": "stdout",
     "output_type": "stream",
     "text": [
      "Total Upper Case letter are: 4\n"
     ]
    }
   ],
   "source": [
    "# 26. Count the number of uppercase letters in a string.\n",
    "\n",
    "s = \"Welcome to the World of Data Science\"\n",
    "\n",
    "UC_letter = 0\n",
    "\n",
    "for char in s:\n",
    "    if char.isupper():\n",
    "        UC_letter += 1\n",
    "print(\"Total Upper Case letter are:\", UC_letter)"
   ]
  },
  {
   "cell_type": "code",
   "execution_count": 1,
   "id": "d4b9cbe0-5695-42c4-a763-6d9c8c169eeb",
   "metadata": {},
   "outputs": [
    {
     "name": "stdout",
     "output_type": "stream",
     "text": [
      "Total Upper Case letter are: 26\n"
     ]
    }
   ],
   "source": [
    "# 27. Count the number of lowercase letters in a string.\n",
    "\n",
    "s = \"Welcome to the World of Data Science\"\n",
    "\n",
    "LC_letter = 0\n",
    "\n",
    "for char in s:\n",
    "    if char.islower():\n",
    "        LC_letter += 1\n",
    "print(\"Total Upper Case letter are:\", LC_letter)"
   ]
  },
  {
   "cell_type": "code",
   "execution_count": 2,
   "id": "50dbec31-77fc-4330-98ca-ece99f31c224",
   "metadata": {},
   "outputs": [
    {
     "name": "stdout",
     "output_type": "stream",
     "text": [
      "wELCOME TO THE wORLD OF dATA sCIENCE\n"
     ]
    }
   ],
   "source": [
    "# 28. Swap the case of each character in a string.\n",
    "\n",
    "s = \"Welcome to the World of Data Science\"\n",
    "\n",
    "Swap_string = s.swapcase()\n",
    "print(Swap_string)"
   ]
  },
  {
   "cell_type": "code",
   "execution_count": 5,
   "id": "e079e3f2-93ad-49fa-ab6e-970627ec4247",
   "metadata": {},
   "outputs": [
    {
     "name": "stdout",
     "output_type": "stream",
     "text": [
      "Welcome to the World of Data\n"
     ]
    }
   ],
   "source": [
    "# 29. Remove a specific word from a string.\n",
    "\n",
    "s = \"Welcome to the World of Data Science\"\n",
    "s_word = \"Science\"\n",
    "words = s.split()\n",
    "\n",
    "# Create a new list excluding the word to remove\n",
    "filtered_words = [word for word in words if word!=s_word]\n",
    "s = ' '.join(filtered_words)\n",
    "print(s)"
   ]
  },
  {
   "cell_type": "code",
   "execution_count": 8,
   "id": "fde06053-17e1-4490-9ea1-99508e9864d9",
   "metadata": {},
   "outputs": [
    {
     "name": "stdin",
     "output_type": "stream",
     "text": [
      "Enter your email id dilshad.com\n"
     ]
    },
    {
     "name": "stdout",
     "output_type": "stream",
     "text": [
      "Invalid email-id\n"
     ]
    }
   ],
   "source": [
    "# 30. Check if a string is a valid email address.\n",
    "\n",
    "import re\n",
    "\n",
    "email = input(\"Enter your email id\")\n",
    "pattern = r'^[\\w\\.-]+@[\\w\\.-]+\\.\\w+$'\n",
    "\n",
    "if re.match(pattern, email):\n",
    "    print(\"Valid email-id\")\n",
    "else:\n",
    "    print(\"Invalid email-id\")"
   ]
  },
  {
   "cell_type": "code",
   "execution_count": 9,
   "id": "5bd34311-f3c5-41d3-b810-7fa555e70bc4",
   "metadata": {},
   "outputs": [
    {
     "name": "stdin",
     "output_type": "stream",
     "text": [
      "Enter your email id dilshad4u@gmail.com\n"
     ]
    },
    {
     "name": "stdout",
     "output_type": "stream",
     "text": [
      "Your username is  dilshad4u\n"
     ]
    }
   ],
   "source": [
    "# 31. Extract the username from an email address string.\n",
    "\n",
    "email = input(\"Enter your email id\")\n",
    "username = email.split(\"@\")[0]\n",
    "print(\"Your username is \",username)\n"
   ]
  },
  {
   "cell_type": "code",
   "execution_count": 11,
   "id": "0848e667-1283-4eda-9e32-94fefde35b04",
   "metadata": {},
   "outputs": [
    {
     "name": "stdin",
     "output_type": "stream",
     "text": [
      "Enter your email id dilshad4u@gmail.com\n"
     ]
    },
    {
     "name": "stdout",
     "output_type": "stream",
     "text": [
      "You are on domain  gmail.com\n"
     ]
    }
   ],
   "source": [
    "# 32. Extract the domain name from an email address string.\n",
    "\n",
    "email = input(\"Enter your email id\")\n",
    "domain_name = email.split(\"@\")[1]\n",
    "print(\"You are on domain \",domain_name)"
   ]
  },
  {
   "cell_type": "code",
   "execution_count": 12,
   "id": "777c9765-28f6-472d-85ec-7ce1174fb985",
   "metadata": {},
   "outputs": [
    {
     "name": "stdout",
     "output_type": "stream",
     "text": [
      "Welcome to the World of Data Science\n"
     ]
    }
   ],
   "source": [
    "# 33. Replace multiple spaces in a string with a single space.\n",
    "\n",
    "s = \"Welcome    to   the    World   of Data     Science\"\n",
    "cleaned_s = \" \".join(s.split())\n",
    "print(cleaned_s)"
   ]
  },
  {
   "cell_type": "markdown",
   "id": "86ca8e0f-3d2a-4547-b0ad-de71a4cd8568",
   "metadata": {},
   "source": [
    "### List Based Practice Problem\n"
   ]
  },
  {
   "cell_type": "code",
   "execution_count": 15,
   "id": "6928dd49-430d-4331-91ca-4b0c35ec783d",
   "metadata": {},
   "outputs": [
    {
     "name": "stdout",
     "output_type": "stream",
     "text": [
      "[1, 2, 3, 4, 5, 6, 7, 8, 9, 10]\n"
     ]
    }
   ],
   "source": [
    "# 1. Create a list with integers from 1 to 10.\n",
    "\n",
    "l = []\n",
    "for i in range(1,11):\n",
    "    l.append(i)\n",
    "print(l)"
   ]
  },
  {
   "cell_type": "code",
   "execution_count": 20,
   "id": "07b9cb80-482b-460e-ad70-2dc79bdf9bde",
   "metadata": {},
   "outputs": [
    {
     "name": "stdout",
     "output_type": "stream",
     "text": [
      "10\n"
     ]
    }
   ],
   "source": [
    "# 2. Find the length of a list without using the `len()` function.\n",
    "\n",
    "l = [1, 2, 3, 4, 5, 6, 7, 8, 9, 10]\n",
    "\n",
    "count = 0\n",
    "for _ in l:\n",
    "    count+=1\n",
    "print(count)"
   ]
  },
  {
   "cell_type": "code",
   "execution_count": 25,
   "id": "edb11b07-5ed1-4866-82ca-49d486a3c2bb",
   "metadata": {},
   "outputs": [
    {
     "name": "stdout",
     "output_type": "stream",
     "text": [
      "Updated list: [1, 2, 3, 4, 5, 6, 7, 8, 9, 10, 11]\n"
     ]
    }
   ],
   "source": [
    "# 3. Append an element to the end of a list.\n",
    "\n",
    "l = [1, 2, 3, 4, 5, 6, 7, 8, 9, 10]\n",
    "new_element = 11\n",
    "l.append(new_element)\n",
    "print(\"Updated list:\",l)"
   ]
  },
  {
   "cell_type": "code",
   "execution_count": 26,
   "id": "e1ef077c-8492-491d-9240-c3d83777b98f",
   "metadata": {},
   "outputs": [
    {
     "name": "stdout",
     "output_type": "stream",
     "text": [
      "Updated list: [10, 20, 30, 40, 50, 60]\n"
     ]
    }
   ],
   "source": [
    "# 4. Insert an element at a specific index in a list.\n",
    "l = [10,20,40,50,60]\n",
    "new_element = 30\n",
    "\n",
    "# Inserting new element at third position after element 20\n",
    "l.insert(2,new_element)\n",
    "print(\"Updated list:\",l)"
   ]
  },
  {
   "cell_type": "code",
   "execution_count": 28,
   "id": "84dbaad5-e80d-4455-9879-412599c8e78a",
   "metadata": {},
   "outputs": [
    {
     "name": "stdout",
     "output_type": "stream",
     "text": [
      "Updated list: [10, 20, 30, 40, 50]\n"
     ]
    }
   ],
   "source": [
    "# 5. Remove an element from a list by its value.\n",
    "\n",
    "l = [10,20,30,40,50,60]\n",
    "l.remove(60)\n",
    "print(\"Updated list:\",l)"
   ]
  },
  {
   "cell_type": "code",
   "execution_count": 31,
   "id": "5b200d7e-29b5-4214-b750-6c64d1537db7",
   "metadata": {},
   "outputs": [
    {
     "name": "stdout",
     "output_type": "stream",
     "text": [
      "Updated list: [10, 20, 30, 40, 50]\n"
     ]
    }
   ],
   "source": [
    "# 6. Remove an element from a list by its index.\n",
    "\n",
    "l = [10,20,30,40,50,60]\n",
    "l.pop(5)\n",
    "print(\"Updated list:\",l)"
   ]
  },
  {
   "cell_type": "code",
   "execution_count": 35,
   "id": "986eb6d0-1dad-413c-85be-2af57ef5feb2",
   "metadata": {},
   "outputs": [
    {
     "name": "stdout",
     "output_type": "stream",
     "text": [
      "50 exists in the list.\n"
     ]
    }
   ],
   "source": [
    "# 7. Check if an element exists in a list.\n",
    "\n",
    "l = [10,20,30,40,50,60]\n",
    "element_to_check = 50\n",
    "if element_to_check in l:\n",
    "    print(f\"{element_to_check} exists in the list.\")\n",
    "else:\n",
    "    print(f\"{element_to_check} does not exist in the list.\")"
   ]
  },
  {
   "cell_type": "code",
   "execution_count": 39,
   "id": "2f5959d7-4c41-4d7d-abbb-373b4fafc6e4",
   "metadata": {},
   "outputs": [
    {
     "name": "stdout",
     "output_type": "stream",
     "text": [
      "Element 50 present at Index: 4\n"
     ]
    }
   ],
   "source": [
    "# 8. Find the index of the first occurrence of an element in a list.\n",
    "\n",
    "l = [10,20,30,40,50,60]\n",
    "element_to_check = 50\n",
    "if element_to_check in l:\n",
    "    print(f\"Element {element_to_check} present at Index:\",l.index(element_to_check))\n",
    "else:\n",
    "    print(f\"Element {element_to_check} not present in list\")"
   ]
  },
  {
   "cell_type": "code",
   "execution_count": 44,
   "id": "76a47fbb-0b14-437a-a332-fd054f1eb816",
   "metadata": {},
   "outputs": [
    {
     "name": "stdout",
     "output_type": "stream",
     "text": [
      "3 occurances of Element 10 in the list\n"
     ]
    }
   ],
   "source": [
    "# 9. Count the occurrences of an element in a list.\n",
    "\n",
    "l = [10,20,10,40,50,10]\n",
    "element_to_check = 10\n",
    "\n",
    "count = 0\n",
    "for i in l:\n",
    "    if i == element_to_check:\n",
    "        count+=1\n",
    "print(f\"{count} occurances of Element {element_to_check} in the list\")"
   ]
  },
  {
   "cell_type": "code",
   "execution_count": 46,
   "id": "23a9e24f-f4b7-4d6f-b98b-1d29c3c5346b",
   "metadata": {},
   "outputs": [
    {
     "name": "stdout",
     "output_type": "stream",
     "text": [
      "Reversed list: [60, 50, 40, 30, 20, 10]\n"
     ]
    }
   ],
   "source": [
    "# 10. Reverse the order of elements in a list.\n",
    "\n",
    "l = [10,20,30,40,50,60]\n",
    "l.reverse()\n",
    "print(\"Reversed list:\",l)"
   ]
  },
  {
   "cell_type": "code",
   "execution_count": 48,
   "id": "ca5762cd-6086-4f28-85bf-3e8b872cfc3e",
   "metadata": {},
   "outputs": [
    {
     "name": "stdout",
     "output_type": "stream",
     "text": [
      "Sorted list: [10, 20, 30, 40, 50, 60]\n"
     ]
    }
   ],
   "source": [
    "# 11. Sort a list in ascending order.\n",
    "\n",
    "l = [60, 50, 40, 30, 20, 10]\n",
    "l.sort()\n",
    "print(\"Sorted list assending order:\",l)"
   ]
  },
  {
   "cell_type": "code",
   "execution_count": 50,
   "id": "b7b9e3ee-0d70-442f-ab0d-991d5b555cb6",
   "metadata": {},
   "outputs": [
    {
     "name": "stdout",
     "output_type": "stream",
     "text": [
      "Sorted list descending order: [60, 50, 40, 30, 20, 10]\n"
     ]
    }
   ],
   "source": [
    "# 12. Sort a list in descending order.\n",
    "\n",
    "l = [10,20,30,40,50,60]\n",
    "l.sort(reverse=True)\n",
    "print(\"Sorted list descending order:\",l)"
   ]
  },
  {
   "cell_type": "code",
   "execution_count": 51,
   "id": "df925e64-0274-4a12-8446-4242f2628c65",
   "metadata": {},
   "outputs": [
    {
     "name": "stdout",
     "output_type": "stream",
     "text": [
      "Even numbers till 20: [2, 4, 6, 8, 10, 12, 14, 16, 18, 20]\n"
     ]
    }
   ],
   "source": [
    "# 13. Create a list of even numbers from 1 to 20.\n",
    "\n",
    "even_list = []\n",
    "\n",
    "for i in range(2,21):\n",
    "    if i%2==0:\n",
    "        even_list.append(i)\n",
    "print(\"List of Even numbers from 1 to 20:\",even_list)"
   ]
  },
  {
   "cell_type": "code",
   "execution_count": 58,
   "id": "48e49c01-27d9-4104-b978-2925ec5b0b91",
   "metadata": {},
   "outputs": [
    {
     "name": "stdout",
     "output_type": "stream",
     "text": [
      "List of Odd numbers from 1 to 20: [1, 3, 5, 7, 9, 11, 13, 15, 17, 19]\n"
     ]
    }
   ],
   "source": [
    "# 14. Create a list of odd numbers from 1 to 20.\n",
    "\n",
    "odd_list = []\n",
    "\n",
    "for i in range(1,20):\n",
    "    if i%2!=0:\n",
    "        odd_list.append(i)\n",
    "print(\"List of Odd numbers from 1 to 20:\",odd_list)"
   ]
  },
  {
   "cell_type": "code",
   "execution_count": 59,
   "id": "2c002a07-9468-4e66-b39d-f0a9da1d5794",
   "metadata": {},
   "outputs": [
    {
     "name": "stdout",
     "output_type": "stream",
     "text": [
      "Sum of elements: 100\n"
     ]
    }
   ],
   "source": [
    "# 15. Find the sum of all elements in a list.\n",
    "\n",
    "l = [10,20,30,40]\n",
    "total_sum = sum(l)\n",
    "print(\"Sum of elements:\", total_sum)"
   ]
  },
  {
   "cell_type": "code",
   "execution_count": 60,
   "id": "8ca2bf7b-bb59-41d3-97f8-9f7828798573",
   "metadata": {},
   "outputs": [
    {
     "name": "stdout",
     "output_type": "stream",
     "text": [
      "Element having maximum value: 40\n"
     ]
    }
   ],
   "source": [
    "# 16. Find the maximum value in a list.\n",
    "\n",
    "l = [10,20,30,40]\n",
    "max_value = max(l)\n",
    "print(\"Element having maximum value:\", max_value)"
   ]
  },
  {
   "cell_type": "code",
   "execution_count": 61,
   "id": "617311b3-491a-48d6-8230-4417b50f8a6e",
   "metadata": {},
   "outputs": [
    {
     "name": "stdout",
     "output_type": "stream",
     "text": [
      "Element having minimum value: 10\n"
     ]
    }
   ],
   "source": [
    "# 17. Find the minimum value in a list.\n",
    "\n",
    "l = [10,20,30,40]\n",
    "min_value = min(l)\n",
    "print(\"Element having minimum value:\", min_value)"
   ]
  },
  {
   "cell_type": "code",
   "execution_count": 70,
   "id": "88180ee4-0a03-4b75-8eed-fc6942e8709a",
   "metadata": {},
   "outputs": [
    {
     "name": "stdout",
     "output_type": "stream",
     "text": [
      "List of squares: [1, 4, 9, 16, 25, 36, 49, 64, 81, 100]\n"
     ]
    }
   ],
   "source": [
    "# 18. Create a list of squares of numbers from 1 to 10.\n",
    "\n",
    "square_list = []\n",
    "\n",
    "for i in range(1,11):\n",
    "    square_list.append(i*i)\n",
    "print(\"List of squares:\",square_list)"
   ]
  },
  {
   "cell_type": "code",
   "execution_count": 71,
   "id": "b9e9ea97-c2a9-4799-9d85-455d05bc9f77",
   "metadata": {},
   "outputs": [
    {
     "name": "stdout",
     "output_type": "stream",
     "text": [
      "List of random integers: [13, 80, 40, 37, 49, 32, 63, 78, 61, 91]\n"
     ]
    }
   ],
   "source": [
    "# 19. Create a list of random numbers.\n",
    "\n",
    "import random\n",
    "\n",
    "# Create a list of random integers between 1 and 100\n",
    "random_integers = [random.randint(1, 100) for _ in range(10)]\n",
    "\n",
    "# Print the list of random integers\n",
    "print(\"List of random integers:\", random_integers)"
   ]
  },
  {
   "cell_type": "code",
   "execution_count": 72,
   "id": "248802ee-b5b2-464c-bae3-169ca7e42bae",
   "metadata": {},
   "outputs": [
    {
     "name": "stdout",
     "output_type": "stream",
     "text": [
      "List without duplicates: [40, 10, 20, 50]\n"
     ]
    }
   ],
   "source": [
    "# 20. Remove duplicates from a list.\n",
    "\n",
    "l = [10,20,10,40,50,10]\n",
    "unique_list = list(set(l))\n",
    "print(\"List without duplicates:\", unique_list)"
   ]
  },
  {
   "cell_type": "markdown",
   "id": "c8d18911-1a8f-43c6-b5b4-5cab7ecedb40",
   "metadata": {},
   "source": [
    "### Tuple Based Practice Problem :"
   ]
  },
  {
   "cell_type": "code",
   "execution_count": 80,
   "id": "56f10d59-bbdf-4a20-8244-f1603ef750fe",
   "metadata": {},
   "outputs": [
    {
     "name": "stdout",
     "output_type": "stream",
     "text": [
      "(1, 2, 3, 4, 5)\n"
     ]
    }
   ],
   "source": [
    "# 1. Create a tuple with integers from 1 to 5.\n",
    "\n",
    "t = (1,2,3,4,5)\n",
    "print(t)\n"
   ]
  },
  {
   "cell_type": "code",
   "execution_count": 83,
   "id": "db7be93f-eba1-4d45-b441-c12e35b4627f",
   "metadata": {},
   "outputs": [
    {
     "name": "stdout",
     "output_type": "stream",
     "text": [
      "The third element of the tuple is: 30\n"
     ]
    }
   ],
   "source": [
    "# 2. Access the third element of a tuple.\n",
    "\n",
    "t = (10,20,30,40,50)\n",
    "third_element = t[2]\n",
    "print(\"The third element of the tuple is:\", third_element)"
   ]
  },
  {
   "cell_type": "code",
   "execution_count": 84,
   "id": "ba89b193-9681-4f72-9aca-d0e7bbffb81f",
   "metadata": {},
   "outputs": [
    {
     "name": "stdout",
     "output_type": "stream",
     "text": [
      "The length of the tuple is: 5\n"
     ]
    }
   ],
   "source": [
    "# 3. Find the length of a tuple without using the `len()` function.\n",
    "\n",
    "t = (10,20,30,40,50)\n",
    "\n",
    "count = 0\n",
    "for _ in t:\n",
    "    count+=1\n",
    "    \n",
    "print(\"The length of the tuple is:\", count)"
   ]
  },
  {
   "cell_type": "code",
   "execution_count": 87,
   "id": "a28c9b26-e49e-4b67-ae92-cf58b2ffb080",
   "metadata": {},
   "outputs": [
    {
     "name": "stdout",
     "output_type": "stream",
     "text": [
      "3 occurances for element 20 in tuple.\n"
     ]
    }
   ],
   "source": [
    "# 4. Count the occurrences of an element in a tuple.\n",
    "\n",
    "t = (20,20,30,20,50)\n",
    "element_to_check = 20\n",
    "print(f\"{t.count(element_to_check)} occurances for element {element_to_check} in tuple.\")"
   ]
  },
  {
   "cell_type": "code",
   "execution_count": 88,
   "id": "4f42c4b6-7607-450d-a39c-6db719ece53a",
   "metadata": {},
   "outputs": [
    {
     "name": "stdout",
     "output_type": "stream",
     "text": [
      "First occurrence of for element 20 is at index 3 in tuple.\n"
     ]
    }
   ],
   "source": [
    "# 5. Find the index of the first occurrence of an element in a tuple.\n",
    "\n",
    "t = (10,15,30,20,50)\n",
    "element_to_check = 20\n",
    "print(f\"First occurrence of for element {element_to_check} is at index {t.index(element_to_check)} in tuple.\")"
   ]
  },
  {
   "cell_type": "code",
   "execution_count": 90,
   "id": "e9e63e50-784e-46bb-8281-5471e025ecf6",
   "metadata": {},
   "outputs": [
    {
     "name": "stdout",
     "output_type": "stream",
     "text": [
      "40 does not exist in the tuple.\n"
     ]
    }
   ],
   "source": [
    "# 6. Check if an element exists in a tuple.\n",
    "\n",
    "t = (10,15,30,20,50)\n",
    "element_to_check = 40\n",
    "\n",
    "if element_to_check in t:\n",
    "    print(f\"{element_to_check} exists in the tuple.\")\n",
    "else:\n",
    "    print(f\"{element_to_check} does not exist in the tuple.\")"
   ]
  },
  {
   "cell_type": "code",
   "execution_count": 91,
   "id": "fd235314-f02f-4b2b-ac0c-70fcd1ad7b68",
   "metadata": {},
   "outputs": [
    {
     "name": "stdout",
     "output_type": "stream",
     "text": [
      "Tuple: (10, 15, 30, 20, 50)\n",
      "List: [10, 15, 30, 20, 50]\n"
     ]
    }
   ],
   "source": [
    "# 7. Convert a tuple to a list.\n",
    "\n",
    "t = (10,15,30,20,50)\n",
    "l = list(t)\n",
    "print(\"Tuple:\", t)\n",
    "print(\"List:\", l)"
   ]
  },
  {
   "cell_type": "code",
   "execution_count": 92,
   "id": "70e38a92-bd28-4948-b09d-74f839b86b7d",
   "metadata": {},
   "outputs": [
    {
     "name": "stdout",
     "output_type": "stream",
     "text": [
      "List: [10, 15, 30, 20, 50]\n",
      "Tuple: (10, 15, 30, 20, 50)\n"
     ]
    }
   ],
   "source": [
    "# 8. Convert a list to a tuple.\n",
    "\n",
    "l = [10,15,30,20,50]\n",
    "t = tuple(l)\n",
    "print(\"List:\", l)\n",
    "print(\"Tuple:\", t)"
   ]
  },
  {
   "cell_type": "code",
   "execution_count": 93,
   "id": "047f4a2e-1126-4da9-bc3a-d8420ba89fd3",
   "metadata": {},
   "outputs": [
    {
     "name": "stdout",
     "output_type": "stream",
     "text": [
      "variable 1: 10\n",
      "variable 2: 15\n",
      "variable 3: 30\n",
      "variable 4: 20\n",
      "variable 5: 50\n"
     ]
    }
   ],
   "source": [
    "# 9. Unpack the elements of a tuple into variables.\n",
    "\n",
    "t = (10,15,30,20,50)\n",
    "\n",
    "v1, v2, v3, v4, v5 = t\n",
    "\n",
    "print(\"variable 1:\", v1)\n",
    "print(\"variable 2:\", v2)\n",
    "print(\"variable 3:\", v3)\n",
    "print(\"variable 4:\", v4)\n",
    "print(\"variable 5:\", v5)"
   ]
  },
  {
   "cell_type": "code",
   "execution_count": 94,
   "id": "765745cd-61af-42e5-9e45-228e24dd70c2",
   "metadata": {},
   "outputs": [
    {
     "name": "stdout",
     "output_type": "stream",
     "text": [
      "Tuple of even numbers: (2, 4, 6, 8, 10, 12, 14, 16, 18, 20)\n"
     ]
    }
   ],
   "source": [
    "# 10. Create a tuple of even numbers from 1 to 10.\n",
    "\n",
    "even_list = []\n",
    "even_tuple = ()\n",
    "for i in range(2,21):\n",
    "    if i%2==0:\n",
    "        even_list.append(i)\n",
    "even_tuple = tuple(even_list)           \n",
    "print(\"Tuple of even numbers:\", even_tuple)"
   ]
  },
  {
   "cell_type": "code",
   "execution_count": 95,
   "id": "446cef7b-77ce-47fd-b1ce-ee09634e8b15",
   "metadata": {},
   "outputs": [
    {
     "name": "stdout",
     "output_type": "stream",
     "text": [
      "Tuple of odd numbers: (1, 3, 5, 7, 9, 11, 13, 15, 17, 19)\n"
     ]
    }
   ],
   "source": [
    "# 11. Create a tuple of odd numbers from 1 to 10.\n",
    "\n",
    "odd_list = []\n",
    "odd_tuple = ()\n",
    "for i in range(1,20):\n",
    "    if i%2!=0:\n",
    "        odd_list.append(i)\n",
    "odd_tuple = tuple(odd_list)           \n",
    "print(\"Tuple of odd numbers:\", odd_tuple)"
   ]
  },
  {
   "cell_type": "code",
   "execution_count": 99,
   "id": "d5f8b810-0983-4f35-835c-a7e7a2163152",
   "metadata": {},
   "outputs": [
    {
     "name": "stdout",
     "output_type": "stream",
     "text": [
      "Concatenated tuple: (10, 20, 30, 40, 50, 60)\n"
     ]
    }
   ],
   "source": [
    "# 12. Concatenate two tuples.\n",
    "\n",
    "t1 = (10,20,30)\n",
    "t2 = (40,50,60)\n",
    "concatenated_tuple = t1 + t2\n",
    "print(\"Concatenated tuple:\", concatenated_tuple)"
   ]
  },
  {
   "cell_type": "code",
   "execution_count": 101,
   "id": "44605128-c27e-49e6-8ec6-bd5336a8bb70",
   "metadata": {},
   "outputs": [
    {
     "name": "stdout",
     "output_type": "stream",
     "text": [
      "Concatenated tuple: (10, 20, 30, 10, 20, 30, 10, 20, 30)\n"
     ]
    }
   ],
   "source": [
    "# 13. Repeat a tuple three times.\n",
    "\n",
    "t1 = (10,20,30)\n",
    "repeated_tuple = t1 * 3\n",
    "print(\"Concatenated tuple:\", repeated_tuple)"
   ]
  },
  {
   "cell_type": "code",
   "execution_count": 108,
   "id": "fcbbab5f-e187-4e00-8a2c-77fe9721800a",
   "metadata": {},
   "outputs": [
    {
     "name": "stdout",
     "output_type": "stream",
     "text": [
      "The tuple is not empty\n"
     ]
    }
   ],
   "source": [
    "# 14. Check if a tuple is empty.\n",
    "\n",
    "t1 = (1,2,3)\n",
    "\n",
    "if not t1:\n",
    "    print(\"The tuple is empty\")\n",
    "else:\n",
    "    print(\"The tuple is not empty\")"
   ]
  },
  {
   "cell_type": "code",
   "execution_count": 110,
   "id": "8f55ea1b-887e-4bf3-9d67-180440de2563",
   "metadata": {},
   "outputs": [
    {
     "name": "stdout",
     "output_type": "stream",
     "text": [
      "Nested tuple: ((1, 2, 3), ('a', 'b', 'c'), (True, False))\n"
     ]
    }
   ],
   "source": [
    "# 15. Create a nested tuple.\n",
    "\n",
    "nested_tuple = ((1, 2, 3), ('a', 'b', 'c'), (True, False))\n",
    "print(\"Nested tuple:\", nested_tuple)"
   ]
  },
  {
   "cell_type": "code",
   "execution_count": 111,
   "id": "7fc0bd8b-520f-4858-9b51-4ecaa0e05f45",
   "metadata": {},
   "outputs": [
    {
     "name": "stdout",
     "output_type": "stream",
     "text": [
      "Nested tuple first element is: (1, 2, 3)\n"
     ]
    }
   ],
   "source": [
    "# 16. Access the first element of a nested tuple.\n",
    "\n",
    "nested_tuple = ((1, 2, 3), ('a', 'b', 'c'), (True, False))\n",
    "print(\"Nested tuple first element is:\", nested_tuple[0])"
   ]
  },
  {
   "cell_type": "code",
   "execution_count": 115,
   "id": "cf3e2ebc-9d75-4a82-8136-e5c86434fa24",
   "metadata": {},
   "outputs": [
    {
     "name": "stdout",
     "output_type": "stream",
     "text": [
      "Single element tuple: (10,)\n"
     ]
    }
   ],
   "source": [
    "# 17. Create a tuple with a single element.\n",
    "\n",
    "single_element_tuple = (10,)\n",
    "print(\"Single element tuple:\", single_element_tuple)"
   ]
  },
  {
   "cell_type": "code",
   "execution_count": 117,
   "id": "588a5a2b-0414-4c20-90f8-16ff6b66c2c0",
   "metadata": {},
   "outputs": [
    {
     "name": "stdout",
     "output_type": "stream",
     "text": [
      "tuple1 == tuple2: False\n",
      "tuple1 != tuple2: True\n",
      "tuple1 < tuple2: True\n",
      "tuple1 <= tuple2: True\n",
      "tuple1 > tuple2: False\n",
      "tuple1 >= tuple2: False\n"
     ]
    }
   ],
   "source": [
    "# 18. Compare two tuples.\n",
    "\n",
    "tuple1 = (10, 20, 30)\n",
    "tuple2 = (10, 20, 40)\n",
    "\n",
    "# Step 2: Compare the two tuples using comparison operators\n",
    "print(\"tuple1 == tuple2:\", tuple1 == tuple2) \n",
    "print(\"tuple1 != tuple2:\", tuple1 != tuple2) \n",
    "print(\"tuple1 < tuple2:\", tuple1 < tuple2)   \n",
    "print(\"tuple1 <= tuple2:\", tuple1 <= tuple2)  \n",
    "print(\"tuple1 > tuple2:\", tuple1 > tuple2)    \n",
    "print(\"tuple1 >= tuple2:\", tuple1 >= tuple2)"
   ]
  },
  {
   "cell_type": "code",
   "execution_count": 119,
   "id": "e45b2366-5841-43fc-9871-1fef689814c1",
   "metadata": {},
   "outputs": [
    {
     "ename": "NameError",
     "evalue": "name 'tuple1' is not defined",
     "output_type": "error",
     "traceback": [
      "\u001b[0;31m---------------------------------------------------------------------------\u001b[0m",
      "\u001b[0;31mNameError\u001b[0m                                 Traceback (most recent call last)",
      "Cell \u001b[0;32mIn[119], line 6\u001b[0m\n\u001b[1;32m      3\u001b[0m tuple1 \u001b[38;5;241m=\u001b[39m (\u001b[38;5;241m10\u001b[39m, \u001b[38;5;241m20\u001b[39m, \u001b[38;5;241m30\u001b[39m)\n\u001b[1;32m      5\u001b[0m \u001b[38;5;28;01mdel\u001b[39;00m tuple1\n\u001b[0;32m----> 6\u001b[0m \u001b[38;5;28mprint\u001b[39m(\u001b[43mtuple1\u001b[49m)\n",
      "\u001b[0;31mNameError\u001b[0m: name 'tuple1' is not defined"
     ]
    }
   ],
   "source": [
    "# 19. Delete a tuple.\n",
    "\n",
    "tuple1 = (10, 20, 30)\n",
    "\n",
    "del tuple1\n",
    "print(tuple1)"
   ]
  },
  {
   "cell_type": "code",
   "execution_count": 120,
   "id": "acb1ece6-f485-4d40-87ae-f61e76b695f5",
   "metadata": {},
   "outputs": [
    {
     "name": "stdout",
     "output_type": "stream",
     "text": [
      "Sliced tuple: (3, 4, 5, 6)\n"
     ]
    }
   ],
   "source": [
    "# 20. Slice a tuple.\n",
    "\n",
    "t = (1, 2, 3, 4, 5, 6, 7, 8, 9, 10)\n",
    "\n",
    "sliced_tuple = t[2:6]  # Elements from index 2 to 5 (end index is exclusive)\n",
    "\n",
    "# Step 3: Print the sliced tuple\n",
    "print(\"Sliced tuple:\", sliced_tuple)"
   ]
  },
  {
   "cell_type": "markdown",
   "id": "8e715aff-d96d-4b4b-b6bd-385bfcc810ea",
   "metadata": {},
   "source": [
    "### Set Based Practice Problem :"
   ]
  },
  {
   "cell_type": "code",
   "execution_count": 4,
   "id": "7de557e9-b431-4a6a-a648-0bc1f139fa1d",
   "metadata": {},
   "outputs": [
    {
     "name": "stdout",
     "output_type": "stream",
     "text": [
      "{1, 2, 3, 4, 5}\n"
     ]
    }
   ],
   "source": [
    "# 1. Create a set with integers from 1 to 5.\n",
    "\n",
    "s = set()\n",
    "for i in range(1,6):\n",
    "    s.add(i)\n",
    "print(s)"
   ]
  },
  {
   "cell_type": "code",
   "execution_count": 6,
   "id": "a918c491-839e-4c72-8755-75b40cf47f4d",
   "metadata": {},
   "outputs": [
    {
     "name": "stdout",
     "output_type": "stream",
     "text": [
      "Updated Sets: {1, 2, 3, 4, 5, 6}\n"
     ]
    }
   ],
   "source": [
    "# 2. Add an element to a set.\n",
    "\n",
    "s = {1, 2, 3, 4, 5}\n",
    "new_element = 6\n",
    "s.add(new_element)\n",
    "print(\"Updated Sets:\",s)"
   ]
  },
  {
   "cell_type": "code",
   "execution_count": 7,
   "id": "cc5eefa8-9b68-442e-bb61-482ead08efd5",
   "metadata": {},
   "outputs": [
    {
     "name": "stdout",
     "output_type": "stream",
     "text": [
      "Updated Sets: {1, 2, 3, 4}\n"
     ]
    }
   ],
   "source": [
    "# 3. Remove an element from a set.\n",
    "\n",
    "s = {1, 2, 3, 4, 5}\n",
    "s.remove(5)\n",
    "print(\"Updated Sets:\",s)"
   ]
  },
  {
   "cell_type": "code",
   "execution_count": 10,
   "id": "44ea7a2b-c46c-4ea9-9655-f0d6bd95097c",
   "metadata": {},
   "outputs": [
    {
     "name": "stdout",
     "output_type": "stream",
     "text": [
      "3 element is present in set\n"
     ]
    }
   ],
   "source": [
    "# 4. Check if an element exists in a set.\n",
    "\n",
    "s = {1, 2, 3, 4, 5}\n",
    "element_to_check = 3\n",
    "\n",
    "if element_to_check in s:\n",
    "    print(f\"{element_to_check} element is present in set\")\n",
    "else:\n",
    "    print(f\"{element_to_check} element is not present in set\")"
   ]
  },
  {
   "cell_type": "code",
   "execution_count": 13,
   "id": "ab03f41a-2156-424d-8b8b-e94d8ea08a87",
   "metadata": {},
   "outputs": [
    {
     "name": "stdout",
     "output_type": "stream",
     "text": [
      "Length of set is: 5\n"
     ]
    }
   ],
   "source": [
    "# 5. Find the length of a set without using the `len()` function.\n",
    "\n",
    "s = {1, 2, 3, 4, 5}\n",
    "\n",
    "count = 0\n",
    "for _ in s:\n",
    "    count += 1\n",
    "print(\"Length of set is:\",count)"
   ]
  },
  {
   "cell_type": "code",
   "execution_count": 14,
   "id": "f794f90f-46a5-4000-bd4b-1e932c1c6dcb",
   "metadata": {},
   "outputs": [
    {
     "name": "stdout",
     "output_type": "stream",
     "text": [
      "Updated set: set()\n"
     ]
    }
   ],
   "source": [
    "# 6. Clear all elements from a set.\n",
    "\n",
    "s = {1, 2, 3, 4, 5}\n",
    "s.clear()\n",
    "print(\"Updated set:\",s)"
   ]
  },
  {
   "cell_type": "code",
   "execution_count": 15,
   "id": "3ef26db9-3283-4b90-9837-6e580a2c6245",
   "metadata": {},
   "outputs": [
    {
     "name": "stdout",
     "output_type": "stream",
     "text": [
      "List of Even numbers from 1 to 10: {2, 4, 6, 8, 10}\n"
     ]
    }
   ],
   "source": [
    "# 7. Create a set of even numbers from 1 to 10.\n",
    "\n",
    "even_set = set()\n",
    "\n",
    "for i in range(2,11):\n",
    "    if i%2==0:\n",
    "        even_set.add(i)\n",
    "print(\"List of Even numbers from 1 to 10:\",even_set)\n"
   ]
  },
  {
   "cell_type": "code",
   "execution_count": 16,
   "id": "92907e79-89ea-4fcb-9aa4-c90d6d2416c8",
   "metadata": {},
   "outputs": [
    {
     "name": "stdout",
     "output_type": "stream",
     "text": [
      "List of Odd numbers from 1 to 10: {1, 3, 5, 7, 9}\n"
     ]
    }
   ],
   "source": [
    "# 8. Create a set of odd numbers from 1 to 10.\n",
    "\n",
    "odd_set = set()\n",
    "\n",
    "for i in range(1,11):\n",
    "    if i%2!=0:\n",
    "        odd_set.add(i)\n",
    "print(\"List of Odd numbers from 1 to 10:\",odd_set)"
   ]
  },
  {
   "cell_type": "code",
   "execution_count": 17,
   "id": "508404fb-0c31-44bc-a72c-150b10e105d0",
   "metadata": {},
   "outputs": [
    {
     "name": "stdout",
     "output_type": "stream",
     "text": [
      "Union of Set 1 and Set 2: {1, 2, 3, 4, 5, 6, 7, 8, 9, 10}\n"
     ]
    }
   ],
   "source": [
    "# 9. Find the union of two sets.\n",
    "\n",
    "s1 = {1,2,3,4,5}\n",
    "s2 = {6,7,8,9,10}\n",
    "\n",
    "union_result = s1.union(s2)\n",
    "print(\"Union of Set 1 and Set 2:\", union_result)"
   ]
  },
  {
   "cell_type": "code",
   "execution_count": 18,
   "id": "9688decd-e098-4313-a6b8-c7088081f729",
   "metadata": {},
   "outputs": [
    {
     "name": "stdout",
     "output_type": "stream",
     "text": [
      "Intersection: {1, 2, 3}\n"
     ]
    }
   ],
   "source": [
    "# 10. Find the intersection of two sets.\n",
    "\n",
    "s1 = {1,2,3,4,5}\n",
    "s2 = {6,2,8,3,1}\n",
    "\n",
    "intersection_result = s1.intersection(s2)\n",
    "print(\"Intersection:\", intersection_result)"
   ]
  },
  {
   "cell_type": "code",
   "execution_count": 19,
   "id": "c7041b77-572e-4269-ac12-9b480e41458a",
   "metadata": {},
   "outputs": [
    {
     "name": "stdout",
     "output_type": "stream",
     "text": [
      "Difference: {4, 5}\n"
     ]
    }
   ],
   "source": [
    "# 11. Find the difference between two sets.\n",
    "\n",
    "s1 = {1,2,3,4,5}\n",
    "s2 = {6,2,8,3,1}\n",
    "\n",
    "difference_result = s1.difference(s2)\n",
    "print(\"Difference:\", difference_result)"
   ]
  },
  {
   "cell_type": "code",
   "execution_count": 22,
   "id": "605613ca-b959-4111-97c9-dbba576444c6",
   "metadata": {},
   "outputs": [
    {
     "name": "stdout",
     "output_type": "stream",
     "text": [
      "set1 is a superset of set2\n"
     ]
    }
   ],
   "source": [
    "# 12. Check if a set is a subset of another set.\n",
    "\n",
    "s1 = {1,2,3}\n",
    "s2 = {1,2,3,4,5}\n",
    "\n",
    "is_subset = s1.issubset(s2)\n",
    "print(\"Is set1 a subset of set2:\", is_subset)"
   ]
  },
  {
   "cell_type": "code",
   "execution_count": 24,
   "id": "a90564e8-e0e9-4a37-9b0f-81f7898c2b4d",
   "metadata": {},
   "outputs": [
    {
     "name": "stdout",
     "output_type": "stream",
     "text": [
      "set1 is a superset of set2\n"
     ]
    }
   ],
   "source": [
    "# 13. Check if a set is a superset of another set.\n",
    "\n",
    "s1 = {1,2,3,4,5}\n",
    "s2 = {4,5}\n",
    "\n",
    "is_superset = s1.issuperset(s2)\n",
    "if is_superset:\n",
    "    print(\"set1 is a superset of set2\")\n",
    "else:\n",
    "    print(\"set1 is not a superset of set2\")"
   ]
  },
  {
   "cell_type": "code",
   "execution_count": 25,
   "id": "d2fe8276-1b1a-4a25-a450-2a8a9393c329",
   "metadata": {},
   "outputs": [
    {
     "name": "stdout",
     "output_type": "stream",
     "text": [
      "Original List: [1, 2, 3, 4, 5, 6]\n",
      "Set from List: {1, 2, 3, 4, 5, 6}\n"
     ]
    }
   ],
   "source": [
    "# 14. Create a set from a list.\n",
    "\n",
    "l = [1,2,3,4,5,6]\n",
    "s = set(l)\n",
    "\n",
    "print(\"Original List:\", l)\n",
    "print(\"Set from List:\", s)"
   ]
  },
  {
   "cell_type": "code",
   "execution_count": 26,
   "id": "c6e2d37e-fb9a-4ef3-8f91-a5305fed3786",
   "metadata": {
    "tags": []
   },
   "outputs": [
    {
     "name": "stdout",
     "output_type": "stream",
     "text": [
      "Original Set: {1, 2, 3, 4, 5, 6}\n",
      "List from Set: [1, 2, 3, 4, 5, 6]\n"
     ]
    }
   ],
   "source": [
    "# 15. Convert a set to a list.\n",
    "\n",
    "s = {1,2,3,4,5,6}\n",
    "l = list(s)\n",
    "\n",
    "print(\"Original Set:\", s)\n",
    "print(\"List from Set:\", l)"
   ]
  },
  {
   "cell_type": "code",
   "execution_count": 35,
   "id": "c680d29c-47e5-4f35-92cc-960f810503e0",
   "metadata": {},
   "outputs": [
    {
     "name": "stdout",
     "output_type": "stream",
     "text": [
      "Original set: {1, 2, 3, 4, 5, 6}\n",
      "Updated set after removing 3 : {1, 2, 4, 5, 6}\n"
     ]
    }
   ],
   "source": [
    "# 16. Remove a random element from a set.\n",
    "\n",
    "import random\n",
    "\n",
    "s = {1,2,3,4,5,6}\n",
    "print(\"Original set:\", s)\n",
    "random_element = random.choice(list(s))\n",
    "\n",
    "s.remove(random_element)\n",
    "print(\"Updated set after removing\", random_element, \":\", s)"
   ]
  },
  {
   "cell_type": "code",
   "execution_count": 36,
   "id": "8c2fa82a-ded5-457b-870f-f8553a95a18b",
   "metadata": {},
   "outputs": [
    {
     "name": "stdout",
     "output_type": "stream",
     "text": [
      "Original set: {1, 2, 3, 4, 5, 6}\n",
      "Popped element: 1\n",
      "Set after popping: {2, 3, 4, 5, 6}\n"
     ]
    }
   ],
   "source": [
    "# 17. Pop an element from a set.\n",
    "\n",
    "s = {1,2,3,4,5,6}\n",
    "\n",
    "print(\"Original set:\", s)\n",
    "popped_element = s.pop()\n",
    "print(\"Popped element:\", popped_element)\n",
    "print(\"Set after popping:\", s)"
   ]
  },
  {
   "cell_type": "code",
   "execution_count": 41,
   "id": "f1875487-5b59-47a9-a2b4-1ba80fa8ebae",
   "metadata": {},
   "outputs": [
    {
     "name": "stdout",
     "output_type": "stream",
     "text": [
      "The two sets have no elements in common.\n"
     ]
    }
   ],
   "source": [
    "# 18. Check if two sets have no elements in common.\n",
    "\n",
    "s1 = {1,2,3,4,5}\n",
    "s2 = {6,7,8,9,10}\n",
    "\n",
    "common_elements = s1.intersection(s2)\n",
    "if not common_elements:\n",
    "    print(\"The two sets have no elements in common.\")\n",
    "else:\n",
    "    print(\"The two sets have common elements:\", common_elements)"
   ]
  },
  {
   "cell_type": "code",
   "execution_count": 42,
   "id": "acab8355-c328-49ee-8b1b-54d1bb32b70b",
   "metadata": {},
   "outputs": [
    {
     "name": "stdout",
     "output_type": "stream",
     "text": [
      "Symmetric Difference: {3, 4, 5, 6, 7, 10}\n"
     ]
    }
   ],
   "source": [
    "# 19. Find the symmetric difference between two sets.\n",
    "\n",
    "s1 = {1,2,3,4,5}\n",
    "s2 = {6,7,2,1,10}\n",
    "symmetric_difference = s1 ^ s2\n",
    "\n",
    "print(\"Symmetric Difference:\", symmetric_difference)"
   ]
  },
  {
   "cell_type": "code",
   "execution_count": 43,
   "id": "2905f3a0-b931-4afc-a797-c611049c3052",
   "metadata": {},
   "outputs": [
    {
     "name": "stdout",
     "output_type": "stream",
     "text": [
      "Set 1: {1, 2, 3}\n",
      "Set 2: {4, 5, 6}\n",
      "Updated Set 1: {1, 2, 3, 4, 5, 6}\n"
     ]
    }
   ],
   "source": [
    "# 20. Update a set with elements from another set.\n",
    "\n",
    "s1 = {1,2,3}\n",
    "print(\"Set 1:\", s1)\n",
    "s2 = {4,5,6}\n",
    "print(\"Set 2:\", s2)\n",
    "\n",
    "s1.update(s2)\n",
    "print(\"Updated Set 1:\", s1)"
   ]
  },
  {
   "cell_type": "code",
   "execution_count": null,
   "id": "bb1e4c5e-5283-4dcc-9c6e-8b2325a70a97",
   "metadata": {},
   "outputs": [],
   "source": []
  }
 ],
 "metadata": {
  "kernelspec": {
   "display_name": "Python 3 (ipykernel)",
   "language": "python",
   "name": "python3"
  },
  "language_info": {
   "codemirror_mode": {
    "name": "ipython",
    "version": 3
   },
   "file_extension": ".py",
   "mimetype": "text/x-python",
   "name": "python",
   "nbconvert_exporter": "python",
   "pygments_lexer": "ipython3",
   "version": "3.10.8"
  }
 },
 "nbformat": 4,
 "nbformat_minor": 5
}
